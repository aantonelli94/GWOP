{
 "cells": [
  {
   "cell_type": "markdown",
   "metadata": {},
   "source": [
    "## Einstein Telescope PE with TaylorF2: adding biases from detector and confusion noise."
   ]
  },
  {
   "cell_type": "markdown",
   "metadata": {},
   "source": [
    "Pick the number of missed signals here. These will form confusion noise."
   ]
  },
  {
   "cell_type": "code",
   "execution_count": 1,
   "metadata": {
    "collapsed": true
   },
   "outputs": [],
   "source": [
    "N_missed = 100"
   ]
  },
  {
   "cell_type": "code",
   "execution_count": 2,
   "metadata": {
    "collapsed": true
   },
   "outputs": [],
   "source": [
    "# Import packages that you may already have pip installed in your environment.\n",
    "\n",
    "import sys\n",
    "import scipy\n",
    "import numpy as np\n",
    "import matplotlib.pyplot as plt\n",
    "import time\n",
    "from math import *\n",
    "from scipy import signal\n",
    "import os\n",
    "import warnings\n",
    "\n",
    "# Import other packages which are less common and specific to the task at hand.\n",
    "\n",
    "import emcee\n",
    "import corner\n",
    "import multiprocessing as mp\n",
    "import matplotlib.patches as mpatches\n",
    "\n",
    "# Initialize random number generator.\n",
    "np.random.seed(12345)\n",
    "# Bad practice, uncomment at your own risk.\n",
    "#warnings.filterwarnings(\"ignore\")"
   ]
  },
  {
   "cell_type": "markdown",
   "metadata": {},
   "source": [
    "### Useful functions"
   ]
  },
  {
   "cell_type": "code",
   "execution_count": 3,
   "metadata": {
    "collapsed": true
   },
   "outputs": [],
   "source": [
    "# Bunch of units\n",
    "\n",
    "GM_sun = 1.3271244*1e20\n",
    "c =2.9979246*1e8\n",
    "M_sun =1.9884099*1e30\n",
    "G = 6.6743*1e-11\n",
    "pc= 3.0856776*1e16\n",
    "pi = np.pi\n",
    "Mpc = 10**6 * pc"
   ]
  },
  {
   "cell_type": "markdown",
   "metadata": {},
   "source": [
    "Here we define the TaylorF2 approximant up to 3.5PN contributions.\n",
    "References for TaylorF2 models\n",
    "\n",
    "- https://arxiv.org/pdf/gr-qc/0509116.pdf [Eqs (3.4)]\n",
    "- https://arxiv.org/pdf/0907.0700.pdf [Eqs.(3.17)-(3.18)]"
   ]
  },
  {
   "cell_type": "code",
   "execution_count": 4,
   "metadata": {
    "collapsed": true
   },
   "outputs": [],
   "source": [
    "def htilde(f,Deff, params,tune):\n",
    "    \n",
    "    \"\"\"\n",
    "    Here we calculate a TaylorF2 model up to 2PN which takes as input the following\n",
    "    set of parameters: (log of chirp mass, symmetric mass ratio, beta).\n",
    "    This can easily be changed in the first few lines where the parameters are loaded.\n",
    "    The main reference is https://arxiv.org/pdf/gr-qc/0509116.pdf [Eqs (3.4)].\n",
    "    \n",
    "    Important:\n",
    "    \n",
    "    This model is defined in the frequency domain directly and it necessitates\n",
    "    continuous fourier transforms in the inner products (no discretizations!)\n",
    "    \n",
    "    Note on distance: \n",
    "    \n",
    "    Notice that the effective distance contains information about the angular dependence\n",
    "    of the binary. The model can thus be used for all detectors, as long as this distance\n",
    "    parameter is chosen consistently. \n",
    "    \n",
    "    Note on spin: \n",
    "    \n",
    "    The spin parameter beta is defined in Eq.(2.3a) in [arxiv:0411129].\n",
    "    Notice that this quantity is constructed in such a way to be smaller or equal\n",
    "    than 9.4, and of course it ranges from 0 (no spins) to this upper value. \n",
    "    The coefficient enters the phase as in Eq.(2.2) in the same paper.\n",
    "    \n",
    "    \n",
    "    Note on 'tune':\n",
    "    \n",
    "    This is a tuning parameter. If tune=1, then we have the 3.5PN waveform.\n",
    "    If tune is not 1, then we introduce a systematic error into the model.\n",
    "    \"\"\"\n",
    "    # Units\n",
    "    \n",
    "    GM_sun = 1.3271244*1e20\n",
    "    c =2.9979246*1e8\n",
    "    M_sun =1.9884099*1e30\n",
    "    G = 6.6743*1e-11\n",
    "    pc= 3.0856776*1e16\n",
    "    pi = np.pi\n",
    "    Mpc = 10**6 * pc\n",
    "    \n",
    "    # Load the parameters\n",
    "    Mchirp = np.exp(params[0])\n",
    "    eta = params[1]\n",
    "    beta = params[2]\n",
    "    theta = -11831/9240 #in PN coefficients!\n",
    "    delta = -1987/3080  #in PN coefficients!\n",
    "    \n",
    "    # PN expansion parameter (velocity).\n",
    "    v = (pi*G*Mchirp*eta**(-3/5)/(c**3) * f)**(1/3)\n",
    "    \n",
    "    # Amplitude explicitly given in terms of units and frequency.\n",
    "    # Notice that lowest PN order here is fine. Biggest contributions from phase.\n",
    "    amplitude_1 = - (Mpc/Deff)*np.sqrt((5/(24*pi)))*(GM_sun/(c**2 *Mpc))\n",
    "    amplitude_2 = (pi*GM_sun/(c**3))**(-1/6) * (Mchirp/M_sun)**(5/6)\n",
    "    amplitude = amplitude_1*amplitude_2 * f**(-7/6)\n",
    "    \n",
    "    # Phase: add or remove PN orders here as you see fit.\n",
    "    psi_const = 2*pi*f*t0 - 2*phi0 - pi/4\n",
    "    psi1PN = (3715/756+55/9*eta)*v**(-3)\n",
    "    psi1_5PN_tails = -16*pi*v**(-2)\n",
    "    psi1_5PN_spin = 4*beta*v**(-2)\n",
    "    psi2PN = (15293365/508032+27145/504*eta+3085/72*eta**2)*v**(-1)\n",
    "    psi25PNlog = pi*(38645/252- 65/3 *eta)* np.log(v)\n",
    "    psi3PN = v*(11583231236531/4694215680 -640/3 * pi**2 -6848/21 *np.euler_gamma\n",
    "              + eta*(-15335597827/3048192+2255/12 * pi**2-1760/3 * theta - 12320/9 * delta)\n",
    "              + eta**2 *76055/1728 - eta**3 * 127825/1296 - 6848/21 * np.log(4))\n",
    "    psi3PNlog = - 6848/21 *v * np.log(v)\n",
    "    psi35PN = pi * v**2 * (77096675./254016 + 378515./1512 *eta - 74045./756 * eta**2* tune)\n",
    "\n",
    "    psi_fullPN = 3/(128*eta_true)*(v**(-5)+psi1PN+psi1_5PN_tails+psi1_5PN_spin+psi2PN\n",
    "                                  + psi25PNlog + psi3PN + psi3PNlog + psi35PN)\n",
    "    psi = psi_const + psi_fullPN \n",
    "    \n",
    "    return amplitude* np.exp(-1j*psi)"
   ]
  },
  {
   "cell_type": "markdown",
   "metadata": {},
   "source": [
    "Define the chirping time for Schwarzchild spacetimes, which will determine the observation time of the source (even if we may want t consider spinning systems..)\n",
    "\n",
    "$$T_\\text{chirp}:=T_{\\text{obs}}=\\frac{5}{256\\eta}\\left(\\frac{c^3}{G M}\\right)^{5/3} (\\pi f_0)^{-8/3}\\left[1+\\mathcal{O}(f_0^{2/3})\\right]$$"
   ]
  },
  {
   "cell_type": "code",
   "execution_count": 5,
   "metadata": {
    "collapsed": true
   },
   "outputs": [],
   "source": [
    "def T_chirp(fmin,M_chirp,eta):\n",
    "\n",
    "    m1 = m1_rescale\n",
    "    m2 = m2_rescale\n",
    "    M = (m1 + m2)*M_sun\n",
    "    M_chirp *= M_sun\n",
    "    \n",
    "    M = M_chirp*eta**(-3/5)\n",
    "    v_low = (pi*G*M_chirp*eta**(-3/5)/(c**3) * fmin)**(1/3)\n",
    "    \n",
    "    theta = -11831/9240 #in PN coefficients!\n",
    "    delta = -1987/3080  #in PN coefficients!\n",
    "    gamma = np.euler_gamma\n",
    "    \n",
    "    pre_fact = ((5/(256*eta)) * G*M/(c**3))\n",
    "    first_term = (v_low**(-8) + (743/252 + (11/3) * eta ) * (v_low **(-6)) - (32*np.pi/5)*v_low**(-5)\n",
    "                +(3058673/508032 + (5429/504)*eta + (617/72)*eta**2)*v_low**(-4)\n",
    "                 +(13*eta/3 - 7729/252)*np.pi*v_low**-3)\n",
    "    \n",
    "    second_term = (6848*gamma/105 - 10052469856691/23471078400 + 128*pi**2/3 + (\n",
    "    3147553127/3048192 - 451*(pi**2)/12)*eta - (15211*eta**2)/1728 + (2555*eta**3 / 1296) +\n",
    "                   (6848/105)*np.log(4*v_low))*v_low**-2\n",
    "    \n",
    "    third_term = ((14809/378)*eta**2 - (75703/756) * eta - 15419335/127008)*pi*v_low**-1\n",
    "    return pre_fact * (first_term + second_term + third_term)"
   ]
  },
  {
   "cell_type": "code",
   "execution_count": 6,
   "metadata": {
    "collapsed": true
   },
   "outputs": [],
   "source": [
    "def inner_prod(sig1_f,sig2_f,PSD,delta_f):\n",
    "\n",
    "    return (4*delta_f) * np.real(np.sum(np.conjugate(sig1_f)*sig2_f/PSD))"
   ]
  },
  {
   "cell_type": "markdown",
   "metadata": {},
   "source": [
    "### Generate toy signals in the time and frequency domains"
   ]
  },
  {
   "cell_type": "markdown",
   "metadata": {},
   "source": [
    "Input some true parameters for the true signal and for the unresolved binaries. We choose these to resemble a gravitational wave passing by."
   ]
  },
  {
   "cell_type": "code",
   "execution_count": 7,
   "metadata": {
    "collapsed": true
   },
   "outputs": [],
   "source": [
    "\"\"\"\n",
    "Signal parameters\n",
    "\"\"\"\n",
    "\n",
    "# Fix these two impostors, assume they are known perfectly.\n",
    "t0 =1.\n",
    "phi0 =0.\n",
    "\n",
    "# variables to sample through\n",
    "\n",
    "Deff_true = 1000 *Mpc\n",
    "logDeff_true = np.log(Deff_true)\n",
    "\n",
    "m1_rescale = 30 # in solar masses\n",
    "m2_rescale =  50 # in solar masses\n",
    "mtot_rescale = m1_rescale+m2_rescale # in solar masses\n",
    "eta_true = m1_rescale* m2_rescale/mtot_rescale**2 #dimensionless\n",
    "Mchirp_rescale = mtot_rescale * eta_true**(3/5) # in solar masses\n",
    "logMchirp_true = np.log(Mchirp_rescale* M_sun)\n",
    "\n",
    "beta_true = 3.0\n",
    "\n",
    "pars = [logMchirp_true,eta_true,beta_true] # array of parameters for waveform."
   ]
  },
  {
   "cell_type": "markdown",
   "metadata": {},
   "source": [
    "Here we set up the signal in the time and frequency domain."
   ]
  },
  {
   "cell_type": "code",
   "execution_count": 8,
   "metadata": {},
   "outputs": [
    {
     "name": "stdout",
     "output_type": "stream",
     "text": [
      "df: 0.2683412394023417\n",
      "fmax: 54.96468560801476\n",
      "Length of frequency array: 168\n"
     ]
    }
   ],
   "source": [
    "\"\"\"\n",
    "Frequency domain\n",
    "\"\"\"\n",
    "fmin = 10\n",
    "fmax = c**3 * (6*np.sqrt(6)*GM_sun*mtot_rescale*np.pi)**-1 # ISCO of schwarzschild in circ. orb.\n",
    "\n",
    "Tobs =  T_chirp(fmin,Mchirp_rescale,eta_true)     # in seconds\n",
    "delta_t = 1/(2*fmax) # Sampling interval\n",
    "t = np.arange(0,Tobs,delta_t)   # Form time vector from t0 = 0 to tn = tmax \n",
    "n_t = int(2**np.ceil(np.log2(len(t))))\n",
    "\n",
    "delta_f = 1/Tobs\n",
    "freq = np.arange(fmin,fmax,delta_f)\n",
    "print('df:', delta_f)\n",
    "print('fmax:', fmax)\n",
    "print('Length of frequency array:', len(freq))"
   ]
  },
  {
   "cell_type": "markdown",
   "metadata": {},
   "source": [
    "### Build up detector noise"
   ]
  },
  {
   "cell_type": "markdown",
   "metadata": {},
   "source": [
    "Next, we build up detector noise. We use Parseval's theorem to calculate the noise. This amounts to using the following variance\n",
    "\n",
    "$$\n",
    "\\sigma^2_n= \\frac{S_n}{4 dt} N_t\n",
    "$$\n",
    "\n",
    "where:\n",
    "\n",
    "- $\\sigma^2$ is the noise variance.\n",
    "- $S_n$ is the detector's PSD.\n",
    "- $dt$ is the sampling interval.\n",
    "- $N_t$ is the length of the (padded) signal.\n",
    "\n",
    "\n",
    "This variance enters a gaussian with zero mean. This will be our detector noise."
   ]
  },
  {
   "cell_type": "code",
   "execution_count": 9,
   "metadata": {
    "collapsed": true
   },
   "outputs": [],
   "source": [
    "def ET_PSD(f):\n",
    "    \"\"\"\n",
    "    Analytical fit: https://arxiv.org/pdf/1201.3563.pdf\n",
    "    \"\"\"\n",
    "    x = f/100\n",
    "\n",
    "    hn_sqr = (2.39 * 1e-27 * x**(-15.64) \n",
    "              + 0.349 * x**(-2.145) \n",
    "              + 1.76 * x**-0.12 \n",
    "              + 0.409 * x**(1.10))**2\n",
    "    \n",
    "    return 1e-50 * hn_sqr"
   ]
  },
  {
   "cell_type": "code",
   "execution_count": 10,
   "metadata": {
    "collapsed": true
   },
   "outputs": [],
   "source": [
    "# PSD and frequencies\n",
    "# Extract frequency bins and PSD.\n",
    "\n",
    "PSD = ET_PSD(freq)\n",
    "\n",
    "noisevar = PSD/(4*delta_f)                   # Parseval's theorem\n",
    "noisemean = 0. \n",
    "\n",
    "noise_real = np.random.normal(noisemean,np.sqrt(noisevar)) # Compute real noise.\n",
    "noise_imag = np.random.normal(noisemean,np.sqrt(noisevar)) # Compute imaginary noise.\n",
    "\n",
    "n_f = np.array(noise_real + 1j*noise_imag)         # noise array in the frequency domain."
   ]
  },
  {
   "cell_type": "markdown",
   "metadata": {},
   "source": [
    "### Generate confusion noise from low SNR signals"
   ]
  },
  {
   "cell_type": "markdown",
   "metadata": {},
   "source": [
    "This while loop doesn't stop until N_missed sources have been found  with SNR below our threshold (30 in this case)"
   ]
  },
  {
   "cell_type": "code",
   "execution_count": 11,
   "metadata": {
    "collapsed": true
   },
   "outputs": [],
   "source": [
    "DeltaH = []\n",
    "SNR_list = []\n",
    "\n",
    "while len(SNR_list)< N_missed:\n",
    "    \n",
    "    Deff_rand = np.random.uniform(10**3,10**4) *Mpc \n",
    "    logDeff_rand = np.log(Deff_rand)\n",
    "    beta_rand = np.random.uniform(0.1,9.4)\n",
    "    Mchirp_rand = np.random.uniform(1,20)* M_sun\n",
    "    logMchirp_rand = np.log(Mchirp_rand)\n",
    "    eta_rand = np.random.uniform(0.01,0.25)\n",
    "    pars_rand = [logMchirp_rand,eta_rand,beta_rand]\n",
    "    \n",
    "    DeltaH = htilde(freq,Deff_rand,pars_rand,0)\n",
    "    SNR = np.sqrt(inner_prod(DeltaH,DeltaH,PSD,delta_f))\n",
    "    #print(SNR_list)\n",
    "    if SNR < 30:\n",
    "        continue\n",
    "    else:\n",
    "        DeltaH += DeltaH\n",
    "        SNR_list.append(SNR)"
   ]
  },
  {
   "cell_type": "markdown",
   "metadata": {},
   "source": [
    "Check the SNR of confusion noise."
   ]
  },
  {
   "cell_type": "code",
   "execution_count": 12,
   "metadata": {},
   "outputs": [
    {
     "name": "stdout",
     "output_type": "stream",
     "text": [
      "Optimal SNR for the resolved source is 89.83606931613734\n"
     ]
    }
   ],
   "source": [
    "# SNR of the resolved source\n",
    "\n",
    "DeltaHsnr = inner_prod(DeltaH,DeltaH,PSD,delta_f)  #CTFT\n",
    "\n",
    "print('Optimal SNR for the resolved source is',np.sqrt(DeltaHsnr))"
   ]
  },
  {
   "cell_type": "markdown",
   "metadata": {},
   "source": [
    "### Generate data array"
   ]
  },
  {
   "cell_type": "code",
   "execution_count": 13,
   "metadata": {
    "collapsed": true
   },
   "outputs": [],
   "source": [
    "# signals\n",
    "tune = 1.0 # no systematic errors\n",
    "\n",
    "h_true_vec_f = htilde(freq,Deff_true,pars,tune)\n",
    "\n",
    "# Data array\n",
    "data_f_vec = (h_true_vec_f # perfectly known waveform.\n",
    "              + n_f        # detector noise.\n",
    "              + DeltaH     # confusion noise.\n",
    "             )"
   ]
  },
  {
   "cell_type": "markdown",
   "metadata": {},
   "source": [
    "Check SNR of source."
   ]
  },
  {
   "cell_type": "code",
   "execution_count": 14,
   "metadata": {
    "collapsed": true
   },
   "outputs": [],
   "source": [
    "def inner_prod(sig1_f,sig2_f,PSD,delta_f):\n",
    "\n",
    "    return (4*delta_f) * np.real(np.sum(np.conjugate(sig1_f)*sig2_f/PSD))"
   ]
  },
  {
   "cell_type": "code",
   "execution_count": 15,
   "metadata": {},
   "outputs": [
    {
     "name": "stdout",
     "output_type": "stream",
     "text": [
      "Optimal SNR for the resolved source is 511.9817785959426\n"
     ]
    }
   ],
   "source": [
    "# SNR of the resolved source\n",
    "\n",
    "SNR2 = inner_prod(data_f_vec,h_true_vec_f,PSD,delta_f) \n",
    "h_SNR2 = inner_prod(h_true_vec_f,h_true_vec_f,PSD,delta_f) \n",
    "\n",
    "rho = np.sqrt(SNR2)\n",
    "print('Optimal SNR for the resolved source is',rho)"
   ]
  },
  {
   "cell_type": "markdown",
   "metadata": {
    "collapsed": true
   },
   "source": [
    "### Setting up the MCMC"
   ]
  },
  {
   "cell_type": "markdown",
   "metadata": {
    "collapsed": true
   },
   "source": [
    "Here we setup the MCMC check. First of all we write down the priors."
   ]
  },
  {
   "cell_type": "code",
   "execution_count": 16,
   "metadata": {
    "collapsed": true
   },
   "outputs": [],
   "source": [
    "# Priors on frequency\n",
    "eta_low_range = 0.01  \n",
    "eta_high_range = 0.25\n",
    "\n",
    "# Priors on the phase\n",
    "logMchirp_low_range = np.log(1*M_sun)\n",
    "logMchirp_high_range = np.log(200000*M_sun)\n",
    "\n",
    "# Priors on spin parameters: check Berti, Buonanno, Will.\n",
    "beta_low = 0.0001\n",
    "beta_high = 9.4"
   ]
  },
  {
   "cell_type": "code",
   "execution_count": 17,
   "metadata": {
    "collapsed": true
   },
   "outputs": [],
   "source": [
    "\"\"\"\n",
    "These functions were originally coded up by Ollie Burke.\n",
    "They must be changed based on the parameters to sample through and their priors.\n",
    "\"\"\"\n",
    "\n",
    "def lprior_eta(eta):\n",
    "\n",
    "\n",
    "    if eta < eta_low_range or eta > eta_high_range: # are you out of your range?\n",
    "        print('I am out of my range. Eta is the problem')\n",
    "        return -1e10 \n",
    "    else:\n",
    "        return np.log(1/(eta_high_range - eta_low_range))\n",
    "\n",
    "def lprior_logMchirp(logMchirp):\n",
    "    \n",
    "    if logMchirp < logMchirp_low_range or logMchirp > logMchirp_high_range: # are you out of your range?\n",
    "        print('I am out of my range. M is the problem')\n",
    "        return -1e10\n",
    "    else:\n",
    "        return np.log(1/(logMchirp_high_range - logMchirp_low_range))\n",
    "\n",
    "def lprior_beta(beta):\n",
    "\n",
    "    \n",
    "    if beta < beta_low or beta > beta_high: # are you out of your range?\n",
    "        print('I am out of my range. Beta is the problem')\n",
    "        return -1e10\n",
    "    else:\n",
    "        return np.log(1/(beta_high - beta_low))"
   ]
  },
  {
   "cell_type": "markdown",
   "metadata": {},
   "source": [
    "Next we calculate the (log-)likelihood.\n",
    "$$\n",
    "p(d|\\theta)\\sim \\exp\\left\\{\\frac{1}{2}\\left(d-h|d-h\\right)\\right\\}\n",
    "$$\n",
    "and the log posterior."
   ]
  },
  {
   "cell_type": "code",
   "execution_count": 18,
   "metadata": {
    "collapsed": true
   },
   "outputs": [],
   "source": [
    "def llike(params, data_f):\n",
    "    \"\"\"\n",
    "    Assumption: Known PSD otherwise need additional term\n",
    "    \"\"\"\n",
    "    \n",
    "    logMchirp1 = params[0]\n",
    "    eta1 = params[1]\n",
    "    beta1 = params[2]\n",
    "    \n",
    "    \n",
    "    signal_f = htilde(freq,Deff_true,[logMchirp1,eta1,beta1],tune)\n",
    "    return(-0.5 * np.sum((np.abs(data_f - signal_f)**2) / noisevar))\n",
    "\n",
    "def lpost(params):\n",
    "    '''\n",
    "    Compute log posterior.\n",
    "    Add parameters here as you see fit.\n",
    "    Add if clauses for each prior\n",
    "    '''\n",
    "    data_f = data_f_vec\n",
    "    \n",
    "    res = (llike(params, data_f) \n",
    "           # Prior reference signal\n",
    "           + lprior_logMchirp(params[0]) \n",
    "           + lprior_eta(params[1])\n",
    "           + lprior_beta(params[2])\n",
    "          )\n",
    "\n",
    "    return res"
   ]
  },
  {
   "cell_type": "code",
   "execution_count": 19,
   "metadata": {},
   "outputs": [
    {
     "name": "stderr",
     "output_type": "stream",
     "text": [
      "100%|██████████| 10000/10000 [00:13<00:00, 758.73it/s]\n"
     ]
    }
   ],
   "source": [
    "iterations = 10000\n",
    "pos = [logMchirp_true,eta_true,beta_true]\n",
    "\n",
    "\n",
    "\"\"\"\n",
    "Notice that here we start around the true values. In this sense we are\n",
    "not perfoming a search, but merely checking Fisher estimates. Change the prefactor \n",
    "of the random number if you want to explore a bit more of the parameter space.\n",
    "\"\"\"\n",
    "start= pos*(1+1e-9* np.random.randn(6, 3))\n",
    "\n",
    "# output\n",
    "nwalkers, ndim = start.shape\n",
    "sampler = emcee.EnsembleSampler(nwalkers, ndim, lpost)\n",
    "sampler.run_mcmc(start, iterations, progress=True)\n",
    "flat_samples = sampler.get_chain(discard=1500, thin=1, flat=False)"
   ]
  },
  {
   "cell_type": "code",
   "execution_count": 20,
   "metadata": {},
   "outputs": [
    {
     "name": "stdout",
     "output_type": "stream",
     "text": [
      "number of samples =  (51000, 3)\n",
      "median =  [73.27533268  0.23405893  2.99706593]\n"
     ]
    }
   ],
   "source": [
    "\"\"\"\n",
    "Gather all the relevant samples here. If you increase the dimensionality of \n",
    "the toy model or problem in general, add more dimensions here as well.\n",
    "\"\"\"\n",
    "\n",
    "# Stack the samples for the parameters sampled through. \n",
    "org_samp = np.vstack( (flat_samples[:,:,0].flatten(), #mass samples.\n",
    "                       flat_samples[:,:,1].flatten(), #mass-ratios\n",
    "                       flat_samples[:,:,2].flatten()  #spin samples.\n",
    "                      ) ).T\n",
    "print(\"number of samples = \", np.shape(org_samp))\n",
    "print(\"median = \", np.median(org_samp,axis=0))"
   ]
  },
  {
   "cell_type": "code",
   "execution_count": 21,
   "metadata": {
    "collapsed": true
   },
   "outputs": [],
   "source": [
    "# Nice plotting options for corner plots.\n",
    "\n",
    "CORNER_KWARGS = dict(\n",
    "    smooth=0.99, # smooths out contours. \n",
    "    plot_datapoints=False, # choose if you want datapoints\n",
    "    label_kwargs=dict(fontsize=12.5), # font size for labels\n",
    "    show_titles=True, #choose if you want titles on top of densities.\n",
    "    title_kwargs=dict(fontsize=12.5), # font size for title\n",
    "    plot_density=False,\n",
    "    quantiles=[0.16, 0.84],  # add quantiles to plot densities. \n",
    "    levels=(1 - np.exp(-0.5), 1 - np.exp(-2), 1 - np.exp(-9 / 2.)),\n",
    "    fill_contours=True, #decide if you want to fill the contours\n",
    "    max_n_ticks=4, # set a limit to ticks in the x-y axes.\n",
    "    #title_fmt=\".1e\", # format for high powers (here 10^2 ~ e+02 etc.)\n",
    "    reverse=False  # if you are a madman, reverse the whole contour.\n",
    ")"
   ]
  },
  {
   "cell_type": "code",
   "execution_count": 22,
   "metadata": {},
   "outputs": [
    {
     "data": {
      "image/png": "[encoded data removed]",
      "text/plain": [
       "<Figure size 547.2x547.2 with 9 Axes>"
      ]
     },
     "metadata": {},
     "output_type": "display_data"
    }
   ],
   "source": [
    "labels = [r'$\\ln\\mathcal{M}_c$', r'$\\eta$', r'$\\beta$']\n",
    "truths=[logMchirp_true,eta_true,beta_true]\n",
    "\n",
    "fig = corner.corner(org_samp, bins=20,labels=labels, \n",
    "                    truths=truths,\n",
    "                    truth_color='red', \n",
    "                    color='black',**CORNER_KWARGS)\n",
    "\n",
    "red_patch = mpatches.Patch(color='red', label='True values')\n",
    "plt.legend(handles=[red_patch],bbox_to_anchor=(-1., 3.1), \n",
    "           loc='upper left', borderaxespad=0.)\n",
    "plt.show()"
   ]
  },
  {
   "cell_type": "markdown",
   "metadata": {
    "collapsed": true
   },
   "source": [
    "### Fisher matrix predictions"
   ]
  },
  {
   "cell_type": "markdown",
   "metadata": {},
   "source": [
    "We calculate the waveform derivatives that will enter the Fisher matrix with the finite difference method, \n",
    "\n",
    "$$ \\frac{\\partial h_m(f;\\Theta^i)}{\\partial \\Theta^i} \\approx \\frac{h_m(f;\\Theta^i+ \\delta\\Theta^i)-h_m(f;\\Theta^i -\\delta\\Theta^i)}{2 \\delta\\Theta^i} $$\n",
    "\n",
    "where $\\Theta=\\{\\log \\mathcal{M}_c,\\eta,\\beta\\}$"
   ]
  },
  {
   "cell_type": "code",
   "execution_count": 23,
   "metadata": {
    "collapsed": true
   },
   "outputs": [],
   "source": [
    "# Derivative wrt Mc.\n",
    "\n",
    "lnMc_delta = 1e-4\n",
    "pars_p = [pars[0] + lnMc_delta,pars[1],pars[2]]\n",
    "pars_m = [pars[0] - lnMc_delta,pars[1],pars[2]]\n",
    "d_dlnMc_ref = (htilde(freq,Deff_true,pars_p,tune)\n",
    "           -htilde(freq,Deff_true,pars_m,tune))/(2*lnMc_delta)\n",
    "\n",
    "# Derivative wrt eta.\n",
    "eta_delta = 1e-6\n",
    "pars_p = [pars[0],pars[1] + eta_delta,pars[2]]\n",
    "pars_m = [pars[0],pars[1] - eta_delta,pars[2]]\n",
    "d_deta_ref = (htilde(freq,Deff_true,pars_p,tune)\n",
    "          -htilde(freq,Deff_true,pars_m,tune))/(2*eta_delta)\n",
    "\n",
    "# Derivative wrt beta\n",
    "\n",
    "beta_delta = 1e-6\n",
    "pars_p = [pars[0],pars[1],pars[2]+ beta_delta]\n",
    "pars_m = [pars[0],pars[1],pars[2]- beta_delta]\n",
    "d_dbeta_ref = (htilde(freq,Deff_true,pars_p,tune)\n",
    "           -htilde(freq,Deff_true,pars_m,tune))/(2*beta_delta)"
   ]
  },
  {
   "cell_type": "markdown",
   "metadata": {},
   "source": [
    "Build up the Fisher matrix"
   ]
  },
  {
   "cell_type": "code",
   "execution_count": 24,
   "metadata": {
    "collapsed": true
   },
   "outputs": [],
   "source": [
    "Ntot = 1\n",
    "\n",
    "diff_vec =[d_dlnMc_ref, d_deta_ref, d_dbeta_ref]\n",
    "\n",
    "fish_mix = np.eye(3*Ntot)\n",
    "for i in range(0,3*Ntot):\n",
    "    for j in range(0,3*Ntot):\n",
    "        fish_mix[i,j] = inner_prod(diff_vec[i],diff_vec[j],PSD,delta_f)"
   ]
  },
  {
   "cell_type": "code",
   "execution_count": 25,
   "metadata": {},
   "outputs": [
    {
     "name": "stdout",
     "output_type": "stream",
     "text": [
      "FM width predictions: [0.00105399 0.00034916 0.00139809]\n",
      "MC width predictions: [0.00108603121636342, 0.00035971608762649, 0.00139957389728977]\n"
     ]
    }
   ],
   "source": [
    "# Does the Fisher matrix approximate well (within a few digits) the MCMC widths? \n",
    "# If not, then there is a problem.\n",
    "\n",
    "print('FM width predictions:',np.sqrt(np.diag(np.linalg.inv(fish_mix))))\n",
    "print('MC width predictions:',  [np.round(np.sqrt(np.var(flat_samples[:,:,i])),17) \n",
    "                                 for i in range(0,3*Ntot)])"
   ]
  },
  {
   "cell_type": "markdown",
   "metadata": {},
   "source": [
    "Calculate biases from noise using\n",
    "\n",
    "$$\\Delta\\Theta^i_{\\text{noise}} =\\Gamma^{ij}b_j$$\n",
    "\n",
    "where the bias vector in this case where biases come from noise is\n",
    "\n",
    "$$b_j = \\left(\\frac{\\partial h}{\\partial \\Theta^j}\\bigg|\\, n_f + \\Delta H_\\text{conf}\\right)$$"
   ]
  },
  {
   "cell_type": "code",
   "execution_count": 26,
   "metadata": {},
   "outputs": [
    {
     "name": "stdout",
     "output_type": "stream",
     "text": [
      "condition number full FM:  14884.872520719971\n"
     ]
    }
   ],
   "source": [
    "# Inverse of the full fisher matrix\n",
    "\n",
    "print('condition number full FM: ',np.linalg.cond(fish_mix))\n",
    "FM_inv = np.linalg.inv(fish_mix)\n",
    "\n",
    "# bias vector \n",
    "\n",
    "noise = n_f + DeltaH\n",
    "\n",
    "b = [inner_prod(i,noise,PSD,delta_f) for i in diff_vec]\n",
    "\n",
    "# Inference biases\n",
    "\n",
    "biases = np.matmul(FM_inv,b)"
   ]
  },
  {
   "cell_type": "code",
   "execution_count": 27,
   "metadata": {},
   "outputs": [
    {
     "data": {
      "image/png": "[encoded data removed]",
      "text/plain": [
       "<Figure size 547.2x547.2 with 9 Axes>"
      ]
     },
     "metadata": {},
     "output_type": "display_data"
    }
   ],
   "source": [
    "truths_bias =[logMchirp_true + biases[0], eta_true + biases[1 ], beta_true + biases[2]]\n",
    "\n",
    "fig = corner.corner(org_samp, bins=20,labels=labels, \n",
    "                    truths=truths,\n",
    "                    truth_color='red', \n",
    "                    color='black',**CORNER_KWARGS)\n",
    "fig = corner.corner(org_samp, bins=20,labels=labels, \n",
    "                    truths=truths_bias,\n",
    "                    truth_color='blue', \n",
    "                    color='black',**CORNER_KWARGS, fig=fig)\n",
    "\n",
    "red_patch = mpatches.Patch(color='gray', label='True values')\n",
    "plt.legend(handles=[red_patch],bbox_to_anchor=(-1., 3.1), \n",
    "           loc='upper left', borderaxespad=0.)\n",
    "#plt.savefig('ouch.pdf')\n",
    "plt.show()"
   ]
  }
 ],
 "metadata": {
  "kernelspec": {
   "display_name": "Python 3",
   "language": "python",
   "name": "python3"
  },
  "language_info": {
   "codemirror_mode": {
    "name": "ipython",
    "version": 3
   },
   "file_extension": ".py",
   "mimetype": "text/x-python",
   "name": "python",
   "nbconvert_exporter": "python",
   "pygments_lexer": "ipython3",
   "version": "3.6.2"
  }
 },
 "nbformat": 4,
 "nbformat_minor": 2
}
