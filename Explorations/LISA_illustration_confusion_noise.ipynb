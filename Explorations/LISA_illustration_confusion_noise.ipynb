{
 "cells": [
  {
   "cell_type": "markdown",
   "metadata": {},
   "source": [
    "## Biases from source confusion with realistic mass distribution"
   ]
  },
  {
   "cell_type": "code",
   "execution_count": 1,
   "metadata": {
    "collapsed": true
   },
   "outputs": [],
   "source": [
    "# Import packages that you may already have pip installed in your environment.\n",
    "\n",
    "import sys\n",
    "import scipy\n",
    "\n",
    "import numpy as np\n",
    "import matplotlib.pyplot as plt\n",
    "import time\n",
    "from math import *\n",
    "from scipy import signal\n",
    "import os\n",
    "import warnings\n",
    "import pickle\n",
    "\n",
    "# Import other packages which are less common and specific to the task at hand.\n",
    "\n",
    "#from functions import *\n",
    "import emcee\n",
    "import corner\n",
    "import multiprocessing as mp\n",
    "import matplotlib.patches as mpatches"
   ]
  },
  {
   "cell_type": "markdown",
   "metadata": {},
   "source": [
    "In this code, we deal with populations of signals lurking in the data and tempering the PE of a fitted signal. The population is drawn from a mock catalog, whose size is to be specified just below here"
   ]
  },
  {
   "cell_type": "code",
   "execution_count": 2,
   "metadata": {
    "collapsed": true
   },
   "outputs": [],
   "source": [
    "# Large number: size of mock catalog of sources to draw from\n",
    "N_mock = 1000"
   ]
  },
  {
   "cell_type": "markdown",
   "metadata": {},
   "source": [
    "### Generate reference signals in the time and frequency domains"
   ]
  },
  {
   "cell_type": "markdown",
   "metadata": {},
   "source": [
    "A few useful units"
   ]
  },
  {
   "cell_type": "code",
   "execution_count": 3,
   "metadata": {
    "collapsed": true
   },
   "outputs": [],
   "source": [
    "# Bunch of units\n",
    "\n",
    "GM_sun = 1.3271244*1e20\n",
    "c =2.9979246*1e8\n",
    "M_sun =1.9884099*1e30\n",
    "G = 6.6743*1e-11\n",
    "pc= 3.0856776*1e16\n",
    "pi = np.pi\n",
    "Mpc = 10**6 * pc"
   ]
  },
  {
   "cell_type": "markdown",
   "metadata": {},
   "source": [
    "Inner product in the fourier domain"
   ]
  },
  {
   "cell_type": "code",
   "execution_count": 4,
   "metadata": {
    "collapsed": true
   },
   "outputs": [],
   "source": [
    "def inner_prod_FD(sig1_f,sig2_f,PSD,delta_f):\n",
    "    \"\"\"\n",
    "    Only makes sense for continuous fourier transforms. (No dt's floating around). \n",
    "    This takes as input dimensionful quantities.\n",
    "    \n",
    "    This is the continous Fourier transform inner product.\n",
    "    \"\"\"\n",
    "    return (4*delta_f) * np.real(np.sum(np.conjugate(sig1_f)*sig2_f/PSD))"
   ]
  },
  {
   "cell_type": "markdown",
   "metadata": {},
   "source": [
    "Here we define the TaylorF2 approximant up to 3.5PN contributions.\n",
    "References for TaylorF2 model\n",
    "\n",
    "- https://arxiv.org/pdf/gr-qc/0509116.pdf [Eqs (3.4)]\n",
    "- https://arxiv.org/pdf/0907.0700.pdf [Eqs.(3.17)-(3.18)]"
   ]
  },
  {
   "cell_type": "code",
   "execution_count": 5,
   "metadata": {
    "collapsed": true
   },
   "outputs": [],
   "source": [
    "def htilde(f,Deff,params,tune,t0, phi0):\n",
    "    \n",
    "    \"\"\"\n",
    "    Here we calculate a TaylorF2 model up to 2PN which takes as input the following\n",
    "    set of parameters: (log of chirp mass, symmetric mass ratio, beta).\n",
    "    This can easily be changed in the first few lines where the parameters are loaded.\n",
    "    The main reference is https://arxiv.org/pdf/gr-qc/0509116.pdf [Eqs (3.4)].\n",
    "    \n",
    "    Important:\n",
    "    \n",
    "    This model is defined in the frequency domain directly and it necessitates\n",
    "    continuous fourier transforms in the inner products (no discretizations!)\n",
    "    \n",
    "    Note on distance: \n",
    "    \n",
    "    Notice that the effective distance contains information about the angular dependence\n",
    "    of the binary. The model can thus be used for all detectors, as long as this distance\n",
    "    parameter is chosen consistently. \n",
    "    \n",
    "    Note on spin: \n",
    "    \n",
    "    The spin parameter beta is defined in Eq.(2.3a) in [arxiv:0411129].\n",
    "    Notice that this quantity is constructed in such a way to be smaller or equal\n",
    "    than 9.4, and of course it ranges from 0 (no spins) to this upper value. \n",
    "    The coefficient enters the phase as in Eq.(2.2) in the same paper.\n",
    "    \"\"\"\n",
    "    # Units\n",
    "    \n",
    "    GM_sun = 1.3271244*1e20\n",
    "    c =2.9979246*1e8\n",
    "    M_sun =1.9884099*1e30\n",
    "    G = 6.6743*1e-11\n",
    "    pc= 3.0856776*1e16\n",
    "    pi = np.pi\n",
    "    Mpc = 10**6 * pc\n",
    "    \n",
    "    # Load the parameters\n",
    "    Mchirp_true = np.exp(params[0])\n",
    "    eta_true = params[1]\n",
    "    beta_true = params[2]\n",
    "    theta = -11831/9240 #in PN coefficients!\n",
    "    delta = -1987/3080  #in PN coefficients!\n",
    "    \n",
    "    # PN expansion parameter (velocity).\n",
    "    v = (pi*G*Mchirp_true*eta_true**(-3/5)/(c**3) * f)**(1/3)\n",
    "    \n",
    "    # Amplitude explicitly given in terms of units and frequency.\n",
    "    # Notice that lowest PN order here is fine. Biggest contributions from phase.\n",
    "    amplitude_1 = - (Mpc/Deff)*np.sqrt((5/(24*pi)))*(GM_sun/(c**2 *Mpc))\n",
    "    amplitude_2 = (pi*GM_sun/(c**3))**(-1/6) * (Mchirp_true/M_sun)**(5/6)\n",
    "    amplitude = amplitude_1*amplitude_2 * f**(-7/6)\n",
    "    \n",
    "    # Phase: add or remove PN orders here as you see fit.\n",
    "    psi_const = 2*pi*f*t0 - 2*phi0 - pi/4\n",
    "    psi1PN = (3715/756+55/9*eta_true)*v**(-3)\n",
    "    psi1_5PN_tails = -16*pi*v**(-2)\n",
    "    psi1_5PN_spin = 4*beta_true*v**(-2)\n",
    "    psi2PN = (15293365/508032+27145/504*eta_true+3085/72*eta_true**2)*v**(-1)\n",
    "    psi25PNlog = pi*(38645/252- 65/3 *eta_true)* np.log(v)\n",
    "    psi3PN = v*(11583231236531/4694215680 -640/3 * pi**2 -6848/21 *np.euler_gamma\n",
    "              + eta_true*(-15335597827/3048192+2255/12 * pi**2-1760/3 * theta - 12320/9 * delta)\n",
    "              + eta_true**2 *76055/1728 - eta_true**3 * 127825/1296 - 6848/21 * np.log(4))\n",
    "    psi3PNlog = - 6848/21 *v * np.log(v)\n",
    "    psi35PN = pi * v**2 * (77096675./254016 + 378515./1512 *eta_true - 74045./756 * eta_true**2* tune)\n",
    "\n",
    "    psi_fullPN = 3/(128*eta_true)*(v**(-5)+psi1PN+psi1_5PN_tails+psi1_5PN_spin+psi2PN\n",
    "                                  + psi25PNlog + psi3PN + psi3PNlog + psi35PN)\n",
    "    psi = psi_const + psi_fullPN \n",
    "    \n",
    "    return amplitude* np.exp(-1j*psi)\n",
    "\n",
    "def T_chirp(fmin,M_chirp,eta):\n",
    "    \n",
    "    M = M_chirp*eta**(-3/5)\n",
    "    v_low = (pi*G*M_chirp*eta**(-3/5)/(c**3) * fmin)**(1/3)\n",
    "    \n",
    "    theta = -11831/9240 #in PN coefficients!\n",
    "    delta = -1987/3080  #in PN coefficients!\n",
    "    gamma = np.euler_gamma\n",
    "    \n",
    "    pre_fact = ((5/(256*eta)) * G*M/(c**3))\n",
    "    first_term = (v_low**(-8) + (743/252 + (11/3) * eta ) * (v_low **(-6)) - (32*np.pi/5)*v_low**(-5)\n",
    "                +(3058673/508032 + (5429/504)*eta + (617/72)*eta**2)*v_low**(-4)\n",
    "                 +(13*eta/3 - 7729/252)*np.pi*v_low**-3)\n",
    "    \n",
    "    second_term = (6848*gamma/105 - 10052469856691/23471078400 + 128*pi**2/3 + (\n",
    "    3147553127/3048192 - 451*(pi**2)/12)*eta - (15211*eta**2)/1728 + (2555*eta**3 / 1296) +\n",
    "                   (6848/105)*np.log(4*v_low))*v_low**-2\n",
    "    \n",
    "    third_term = ((14809/378)*eta**2 - (75703/756) * eta - 15419335/127008)*pi*v_low**-1\n",
    "    return pre_fact * (first_term + second_term + third_term)"
   ]
  },
  {
   "cell_type": "markdown",
   "metadata": {},
   "source": [
    "The function below is used to truncate the waveforms drawn from the population which go beyond the frequency at chirp of the signal we are inferring from. \n",
    "\n",
    "This is mainly because of Python shaenanigans, it doesn't matter much as far as the Physics is concerned."
   ]
  },
  {
   "cell_type": "code",
   "execution_count": 6,
   "metadata": {
    "collapsed": true
   },
   "outputs": [],
   "source": [
    "def pad_or_truncate(l, n, pad=0):\n",
    "    \n",
    "    \n",
    "    \"\"\"\n",
    "    If the length of an array is higher than a specified value, this cuts the\n",
    "    length of said array down to the specified value.\n",
    "    \"\"\"\n",
    "    if len(l) >= n:\n",
    "        return l[:n]\n",
    "    \n",
    "    \"\"\"\n",
    "    If the length is smaller, it adds zeros like there's no tomorrow to reach\n",
    "    the length given by the specified value\n",
    "    \"\"\"\n",
    "    lis = l.tolist()\n",
    "    while len(lis)<n:\n",
    "        lis.append(pad)\n",
    "    \n",
    "    res = np.asarray(lis)\n",
    "    return res"
   ]
  },
  {
   "cell_type": "markdown",
   "metadata": {},
   "source": [
    "Input some true parameters for the true signal and for the unresolved binaries. We choose these to resemble a gravitational wave passing by."
   ]
  },
  {
   "cell_type": "code",
   "execution_count": 7,
   "metadata": {
    "collapsed": true
   },
   "outputs": [],
   "source": [
    "\"\"\"\n",
    "Signal parameters\n",
    "\"\"\"\n",
    "\n",
    "# Fix these two impostors, assume they are known perfectly.\n",
    "phiref =0.\n",
    "\n",
    "# Find a resonable distance for GBs\n",
    "\n",
    "Deff = 10**3 *Mpc\n",
    "logDeff = np.log(Deff)\n",
    "\n",
    "# variables to sample through\n",
    "\n",
    "beta_true = 5.0\n",
    "eta_true = 0.21\n",
    "mtot = 2*1e6 #in solar masses\n",
    "Mchirp = mtot*(eta_true)**(3/5)\n",
    "Mchirp_true =Mchirp* M_sun\n",
    "logMchirp_true = np.log(Mchirp_true)\n",
    "\n",
    "pars = [logMchirp_true,eta_true,beta_true] # array of parameters to sample through"
   ]
  },
  {
   "cell_type": "markdown",
   "metadata": {},
   "source": [
    "Here we set up the signal in the time and frequency domain, as described in the appendix to the paper."
   ]
  },
  {
   "cell_type": "code",
   "execution_count": 8,
   "metadata": {},
   "outputs": [
    {
     "name": "stdout",
     "output_type": "stream",
     "text": [
      "N_t: 2048\n",
      "df: 2.6111011965469084e-06\n",
      "We observe for 382980.17760570353 s,  4.371919835681547 days,  0.012144221765782075 yr\n",
      "fmin: 0.00025\n",
      "fmax: 0.0021985873919213874\n",
      "The binary chirps at f = 0.0021985873919213874\n",
      "Length of frequency array: 747\n"
     ]
    }
   ],
   "source": [
    "\"\"\"\n",
    "Time array.\n",
    "\"\"\"\n",
    "fmin =  0.00025\n",
    "fmax =  c**3/(6*np.sqrt(6)*pi*G*Mchirp_true *eta_true**(-3/5))#0.0002\n",
    "t_year = 365*24*60*60       \n",
    "\n",
    "\n",
    "T_obs = T_chirp(fmin,Mchirp_true,eta_true)  # Take signal in seconds.\n",
    "# Coalescence time of ref source\n",
    "# is the observation time.\n",
    "tref = T_obs\n",
    "delta_t = 1/(2*fmax)                        # Sampling interval in seconds (Shannon's th.)\n",
    "t = np.arange(0,T_obs,delta_t)              # set up time array\n",
    "N_t = int(2**(np.ceil(np.log2(len(t)))))    # In the inner products in the time domain, \n",
    "                                            # N_t should be length of padded signal,\n",
    "                                            # e.g., a power of 2.\n",
    "\n",
    "\n",
    "delta_f =  1/T_obs\n",
    "freq = np.arange(fmin,fmax,delta_f)\n",
    "\n",
    "print('N_t:',N_t)\n",
    "print('df:', delta_f)\n",
    "print('We observe for',T_obs,'s, ',12*30*T_obs/t_year,'days, ',T_obs/t_year,'yr')\n",
    "print('fmin:', fmin)\n",
    "print('fmax:', fmax)\n",
    "print('The binary chirps at f =',c**3/(6*np.sqrt(6)*pi*G*Mchirp_true *eta_true**(-3/5) ))\n",
    "print('Length of frequency array:', len(freq))"
   ]
  },
  {
   "cell_type": "markdown",
   "metadata": {},
   "source": [
    "### Generate noise"
   ]
  },
  {
   "cell_type": "markdown",
   "metadata": {},
   "source": [
    "Next, we build up noise. We use Parseval's theorem to calculate the noise. This amounts to using the following variance\n",
    "\n",
    "$$\n",
    "\\sigma^2_n= \\frac{S_n}{4 dt} N_t\n",
    "$$\n",
    "\n",
    "where:\n",
    "\n",
    "- $\\sigma^2$ is the noise variance.\n",
    "- $S_n$ is the detector's PSD.\n",
    "- $dt$ is the sampling interval.\n",
    "- $N_t$ is the length of the (padded) signal."
   ]
  },
  {
   "cell_type": "code",
   "execution_count": 9,
   "metadata": {
    "collapsed": true
   },
   "outputs": [],
   "source": [
    "def PowerSpectralDensity(f):\n",
    "    \"\"\"\n",
    "    Power Spectral Density for the LISA detector assuming it has been active for a year. \n",
    "    I found an analytic version in one of Niel Cornish's paper which he submitted to the arXiv in\n",
    "    2018. I evaluate the PSD at the frequency bins found in the signal FFT.\n",
    "    \n",
    "    PSD obtained from: https://arxiv.org/pdf/1803.01944.pdf.\n",
    "    Values chosen for confusion noise after 1 year of observation.\n",
    "    [16/12/2020]: removed confusion noise after 1 year of observation. Avoid confusion\n",
    "                  between different timescales of the problem.\n",
    "    \n",
    "    \"\"\"\n",
    "    \n",
    "    sky_averaging_constant = 1.0 # set to one for one source\n",
    "    #(20/3) # Sky Averaged <--- I got this from Jonathan's notes\n",
    "    L = 2.5*10**9   # Length of LISA arm\n",
    "    f0 = 19.09*10**(-3)    \n",
    "\n",
    "    Poms = ((1.5e-11)*(1.5e-11))*(1 + np.power((2e-3)/f, 4))  # Optical Metrology Sensor\n",
    "    Pacc = (3e-15)*(3e-15)* (1 + (4e-4/f)*(4e-4/f))*(1 + np.power(f/(8e-3),4 ))  # Acceleration Noise\n",
    "    alpha = 0.171\n",
    "    beta = 292\n",
    "    k =1020\n",
    "    gamma = 1680\n",
    "    f_k = 0.00215 \n",
    "    Sc = 9e-45 * np.power(f,-7/3)*np.exp(-np.power(f,alpha) + beta*f*np.sin(k*f)) * (1 + np.tanh(gamma*(f_k- f)))  \n",
    "\n",
    "    PSD = (sky_averaging_constant)* ((10/(3*L*L))*(Poms + (4*Pacc)/(np.power(2*np.pi*f,4)))*(1 + 0.6*(f/f0)*(f/f0)) + Sc) # PSD\n",
    "\n",
    "    return PSD"
   ]
  },
  {
   "cell_type": "code",
   "execution_count": 10,
   "metadata": {
    "collapsed": true
   },
   "outputs": [],
   "source": [
    "np.random.seed(1245)\n",
    "PSD = PowerSpectralDensity(freq)\n",
    "\n",
    "noisevar = PSD/(4*delta_f) # Noise variance defined for continuous FTs.\n",
    "noisemean = 0. \n",
    "\n",
    "\n",
    "n_f = []\n",
    "\n",
    "for i in range(0,N_mock):\n",
    "    noise_real = np.random.normal(noisemean,np.sqrt(noisevar)) # Compute real noise.\n",
    "    noise_imag = np.random.normal(noisemean,np.sqrt(noisevar)) # Compute imaginary noise.\n",
    "\n",
    "    n_f.append(np.array(noise_real + 1j*noise_imag))         # noise array in the frequency domain."
   ]
  },
  {
   "cell_type": "markdown",
   "metadata": {},
   "source": [
    "### Fisher results"
   ]
  },
  {
   "cell_type": "markdown",
   "metadata": {},
   "source": [
    "This part is concerned with the Fisher-matrix exploration of biases from the confusion noise of a population of BHs. \n",
    "\n",
    "----\n",
    "\n",
    "First we build the Fisher matrix of the signal we want to infer from. As this is the only signal we assume is in the data, the Fisher matrix ought to contain only derivatives with respect to its 3 parameters."
   ]
  },
  {
   "cell_type": "code",
   "execution_count": 11,
   "metadata": {
    "collapsed": true
   },
   "outputs": [],
   "source": [
    "# Derivative wrt Mc.\n",
    "\n",
    "lnMc_delta = 1e-4\n",
    "pars_p = [pars[0] + lnMc_delta,pars[1],pars[2]]\n",
    "pars_m = [pars[0] - lnMc_delta,pars[1],pars[2]]\n",
    "d_dlnMc = (htilde(freq,Deff,pars_p,1,tref,phiref)-htilde(freq,Deff,pars_m,1,tref,phiref))/(2*lnMc_delta)\n",
    "\n",
    "# Derivative wrt eta.\n",
    "eta_delta = 1e-6\n",
    "pars_p = [pars[0],pars[1] + eta_delta,pars[2]]\n",
    "pars_m = [pars[0],pars[1] - eta_delta,pars[2]]\n",
    "d_deta = (htilde(freq,Deff,pars_p,1,tref,phiref)-htilde(freq,Deff,pars_m,1,tref,phiref))/(2*eta_delta)\n",
    "\n",
    "# Derivative wrt beta\n",
    "\n",
    "beta_delta = 1e-6\n",
    "pars_p = [pars[0],pars[1],pars[2]+ beta_delta]\n",
    "pars_m = [pars[0],pars[1],pars[2]- beta_delta]\n",
    "d_dbeta = (htilde(freq,Deff,pars_p,1,tref,phiref)-htilde(freq,Deff,pars_m,1,tref,phiref))/(2*beta_delta)\n",
    "\n",
    "\"\"\"\n",
    "Find the Fisher matrix with your approximate waveforms, as this is the\n",
    "one which is input in the MCMC and is thus the known waveform.\n",
    "\"\"\"\n",
    "tune_app = 1\n",
    "\n",
    "diff_vec =[d_dlnMc,d_deta,d_dbeta]\n",
    "\n",
    "fish_mix = np.eye(3)\n",
    "for i in range(0,3):\n",
    "    for j in range(0,3):\n",
    "        fish_mix[i,j] = inner_prod_FD(diff_vec[i],diff_vec[j],PSD,delta_f)\n",
    "        \n",
    "# Inverse of the FM\n",
    "\n",
    "FM_inv = np.linalg.inv(fish_mix)"
   ]
  },
  {
   "cell_type": "code",
   "execution_count": 12,
   "metadata": {},
   "outputs": [
    {
     "name": "stdout",
     "output_type": "stream",
     "text": [
      "FM width predictions: [4.04889582e-06 1.90917463e-05 8.96193457e-04]\n"
     ]
    }
   ],
   "source": [
    "# errors on lnMc, eta, beta.\n",
    "print('FM width predictions:',np.sqrt(np.diag(np.linalg.inv(fish_mix))))"
   ]
  },
  {
   "cell_type": "markdown",
   "metadata": {},
   "source": [
    "----\n",
    "\n",
    "Here we construct the *confusion noise* term $\\Delta H_\\text{conf}$ (using the terminology of the paper). We build it from sources drawn from a similar population. We decide to let the BHs share the mass (parent) distribution only, as described below."
   ]
  },
  {
   "cell_type": "markdown",
   "metadata": {},
   "source": [
    "Starting from the probability density $p(M|\\lambda)=\\mathcal{N} M^{\\alpha_0-1}$, we can use the method of inversion to get the source parameter M. In particular, we define the cumulative density function,\n",
    "\n",
    "$u:=\\text{CDF}(M)= \\mathcal{N}\\int_{M_\\text{min}}^{M}M^{\\alpha_0-1}dM = \\alpha_0^{-1}\\mathcal{N}M^{\\alpha_0}\\big|_{M_\\text{min}}^{M}=\\alpha_0^{-1}\\mathcal{N}(M^{\\alpha_0}-M^{\\alpha_0}_{\\text{min}})$.\n",
    "\n",
    "The normalization factor can be calculated imposing that $\\lim_{M\\rightarrow M_{\\text{min}}} u=1$, which gives immediately:\n",
    "\n",
    "$\\mathcal{N}=\\frac{\\alpha_0}{M^{\\alpha_0}_\\text{max}-M^{\\alpha_0}_{\\text{min}}}$.\n",
    "\n",
    "Now, we get M in terms of $u$, \n",
    "\n",
    "$\\quad M^{\\alpha_0}=\\alpha_0\\mathcal{N}^{-1} u +M^{\\alpha_0}_{\\text{min}}\\quad\\Longrightarrow \\quad \\ln M =\\frac{1}{\\alpha_0} \\ln\\big[(M^{\\alpha_0}_\\text{max}-M^{\\alpha_0}_{\\text{min}})\\, u +M^{\\alpha_0}_{\\text{min}}\\big]\\quad $ (true parameter distribution)."
   ]
  },
  {
   "cell_type": "markdown",
   "metadata": {},
   "source": [
    "We set up the stage by calculating the list of mock chirp and total masses for each element of the mock catalog."
   ]
  },
  {
   "cell_type": "code",
   "execution_count": 13,
   "metadata": {
    "collapsed": true
   },
   "outputs": [],
   "source": [
    "np.random.seed(355678)\n",
    "\n",
    "# Inputs to get the true ln M distribution\n",
    "alpha0_t = 0.003 # Greene Ho fit from Gair, Tang, Volonteri (2010)\n",
    "M_min=10**4* M_sun ;   logM_min = np.log(M_min)\n",
    "M_max=10**7* M_sun; logM_max = np.log(M_max)\n",
    "\n",
    "for i in range(0,N_mock):\n",
    "    \n",
    "    lnD_mock = np.random.uniform(np.log(1*10**3*Mpc),np.log(5*10**3*Mpc),N_mock)\n",
    "    beta_mock = np.random.uniform(0.001,9.4,N_mock)\n",
    "    eta_mock = np.random.uniform(0.001,0.05,N_mock)\n",
    "    \n",
    "    \"\"\"\n",
    "    No noise added: these will not be \"observed\", and they define the true\n",
    "    parameters of signals that go completely missed.\n",
    "    \"\"\"\n",
    "    logM_mock=alpha0_t**-1 *np.log((M_max**(alpha0_t)-M_min**(alpha0_t))*np.random.uniform(size=N_mock)+\n",
    "               M_min**(alpha0_t)*np.ones(N_mock))\n",
    "    \n",
    "    # Find the log of the chirp mass (needed for h_tilde) from the distribution\n",
    "    # of the total mass.\n",
    "    M_mock = np.exp(logM_mock)\n",
    "    logMc_mock = np.log(M_mock*eta_mock**(3/5))"
   ]
  },
  {
   "cell_type": "code",
   "execution_count": 14,
   "metadata": {},
   "outputs": [
    {
     "data": {
      "image/png": "[encoded data removed]",
      "text/plain": [
       "<Figure size 432x288 with 1 Axes>"
      ]
     },
     "metadata": {},
     "output_type": "display_data"
    },
    {
     "data": {
      "image/png": "[encoded data removed]",
      "text/plain": [
       "<Figure size 432x288 with 1 Axes>"
      ]
     },
     "metadata": {},
     "output_type": "display_data"
    }
   ],
   "source": [
    "# Scatter plot of masses\n",
    "plt.plot(logMc_mock,'*')\n",
    "plt.show()\n",
    "\n",
    "# Mass distribution\n",
    "plt.hist(logMc_mock, 30)\n",
    "plt.show()"
   ]
  },
  {
   "cell_type": "markdown",
   "metadata": {},
   "source": [
    "From the mass distribution above, and uniform distributions for the frequency, phase and time of coalescence (see below), we calculate the SNR for each source in the mock catalog. If the SNR is below 15, then we consider the source missed and add it to h_missed. From this list, we later construct $\\Delta H_\\text{conf}$."
   ]
  },
  {
   "cell_type": "code",
   "execution_count": 15,
   "metadata": {},
   "outputs": [
    {
     "name": "stdout",
     "output_type": "stream",
     "text": [
      "We have 199 unfitted sources\n"
     ]
    }
   ],
   "source": [
    "SNR_missed =[]\n",
    "h_missed = []\n",
    "pars_missed = []\n",
    "\n",
    "for i in range(0,len(lnD_mock)):\n",
    "    \n",
    "    \n",
    "    # Mock distributions of frequency, \n",
    "    fmax_mock =  c**3/(6*np.sqrt(6)*pi*G*np.exp(logMc_mock[i]) *eta_mock[i]**(-3/5))\n",
    "    # time of coalescence,\n",
    "    T_obs_mock = T_chirp(fmin,np.exp(logMc_mock[i]),eta_mock[i])\n",
    "    # and phase at coalescence.\n",
    "    phi_mock = np.random.uniform(0,2*pi)\n",
    "    \n",
    "    # Build up a frequency array for each source in the mock catalog.\n",
    "    delta_f_mock =  1/(T_obs_mock)\n",
    "    freq_mock = np.arange(fmin,fmax_mock, 1e3*delta_f_mock)\n",
    "    \n",
    "    if len(freq_mock)>len(freq):\n",
    "        \n",
    "        # If the frequency goes beyond the chirp frequency of the reference signal,\n",
    "        # then brutally cut the frequency of the source.\n",
    "        freq_mock = freq_mock[:len(freq)]\n",
    "        \n",
    "        # Find the SNR of the source\n",
    "        h = htilde(freq_mock,np.exp(lnD_mock[i]),\n",
    "                 [logMc_mock[i],eta_mock[i],beta_mock[i]],1,\n",
    "                  T_obs_mock,phi_mock)\n",
    "        rho = np.sqrt(inner_prod_FD(h,h,PSD,delta_f))\n",
    "    \n",
    "    else:\n",
    "        \n",
    "        # if the mock source does not reach the frequency of chirp of the ref. signal,\n",
    "        # then we must cut the PSD to avoid different lengths, which Python abhors.\n",
    "        PSD_new = PSD[:len(freq_mock)]\n",
    "        \n",
    "        # Doing that we can calculate the SNR.\n",
    "        h = htilde(freq_mock,np.exp(lnD_mock[i]),\n",
    "                 [logMc_mock[i],eta_mock[i],beta_mock[i]],1,\n",
    "                   T_obs_mock,phi_mock)\n",
    "        rho = np.sqrt(inner_prod_FD(h,h,PSD_new,delta_f))\n",
    "        \n",
    "    # Add a bit of spice to the SNR by multiplying by noise.\n",
    "    rho_obs = rho+np.random.normal(0,1)\n",
    "    \n",
    "    # Compare the SNR obtained with the threshold one.\n",
    "    if rho_obs<15:\n",
    "        SNR_missed.append(rho_obs)\n",
    "        h_missed.append(h)\n",
    "        pars_missed.append([logMc_mock[i],eta_mock[i],beta_mock[i]])\n",
    "        \n",
    "print('We have',len(SNR_missed),'unfitted sources')"
   ]
  },
  {
   "cell_type": "code",
   "execution_count": 16,
   "metadata": {
    "collapsed": true
   },
   "outputs": [],
   "source": [
    "# This was the Python shaenanigan mentioned before.\n",
    "# Bottomline: we need the padded signals to have the same length. We force them to.\n",
    "\n",
    "h_missed_pad = []\n",
    "for i in h_missed:\n",
    "    \n",
    "    if len(i)<len(freq):\n",
    "        \n",
    "        h_missed_pad.append(pad_or_truncate(i,len(freq)))\n",
    "    else:\n",
    "        h_missed_pad.append(i)"
   ]
  },
  {
   "cell_type": "markdown",
   "metadata": {},
   "source": [
    "Here we consider biases from confusion noise"
   ]
  },
  {
   "cell_type": "code",
   "execution_count": 17,
   "metadata": {
    "collapsed": true
   },
   "outputs": [],
   "source": [
    "# The sum of the missed signals is the confusion noise.\n",
    "deltaH=sum(h_missed_pad)\n",
    "\n",
    "lnMc_cumulative_bias = []\n",
    "eta_cumulative_bias  = []\n",
    "beta_cumulative_bias = []\n",
    "H_conf_list = []\n",
    "\n",
    "\"\"\"\n",
    "The loop below creates lists that allow us to calculate biases retaining only\n",
    "up to the i^th source in the catalog. This is needed if we want to calculate\n",
    "how the bias increses as a number of sources we throw into deltaH.\n",
    "\"\"\"\n",
    "\n",
    "for i in range(0,len(h_missed)):\n",
    "    \n",
    "    # Calculate deltaH up to the chosen number of sources.\n",
    "    deltaH_cumulative = sum(h_missed_pad[0:i])\n",
    "    H_conf_list.append(deltaH_cumulative)\n",
    "    \n",
    "    \"\"\"\n",
    "    Optional:Print the (cumulative, hopefully) increase in the SNR.\n",
    "    \"\"\"\n",
    "    #print('SNR up to source #',i+1,':',round(np.sqrt(\n",
    "    #    inner_prod_FD(deltaH_cumulative,deltaH_cumulative,PSD,delta_f)),1))\n",
    "    \n",
    "    # Bias vectors from FM calculated offline and DeltaH up to i.\n",
    "    deriv_inn_prod_lnMc_cumulative = inner_prod_FD(d_dlnMc,deltaH_cumulative,PSD,delta_f)\n",
    "    deriv_inn_prod_eta_cumulative  = inner_prod_FD(d_deta,deltaH_cumulative,PSD,delta_f)\n",
    "    deriv_inn_prod_beta_cumulative = inner_prod_FD(d_dbeta,deltaH_cumulative,PSD,delta_f)\n",
    "    \n",
    "    b_cumulative = [deriv_inn_prod_lnMc_cumulative,deriv_inn_prod_eta_cumulative,\n",
    "                    deriv_inn_prod_beta_cumulative]\n",
    "    \n",
    "    # Find the associated biases up to the ith source.\n",
    "    biases_pred_cumulative = np.matmul(FM_inv,b_cumulative)\n",
    "    \n",
    "    # Append the biases on lists which we can plot later on.\n",
    "    lnMc_cumulative_bias.append(biases_pred_cumulative[0])\n",
    "    eta_cumulative_bias.append(biases_pred_cumulative[1])\n",
    "    beta_cumulative_bias.append(biases_pred_cumulative[2])\n"
   ]
  },
  {
   "cell_type": "code",
   "execution_count": 18,
   "metadata": {
    "collapsed": true
   },
   "outputs": [],
   "source": [
    "# Find index of largest bias\n",
    "\n",
    "\"\"\"\n",
    "These lines of code give us the index (number of the ith configuration) \n",
    "for which biases are the largest. The index is the one for which any of the \n",
    "biases from lnMc, eta, beta is the largest.\n",
    "\"\"\"\n",
    "\n",
    "R_lnMc = abs(lnMc_cumulative_bias/np.sqrt(FM_inv[0][0]))\n",
    "R_eta = abs(eta_cumulative_bias/np.sqrt(FM_inv[1][1]))\n",
    "R_beta = abs(beta_cumulative_bias/np.sqrt(FM_inv[2][2]))\n",
    "bias_list = [max(R_eta),max(R_lnMc),max(R_beta)]\n",
    "\n",
    "R_list=[R_lnMc,R_eta,R_beta]\n",
    "R_max_list = [max(R_lnMc),max(R_eta),max(R_beta)]\n",
    "\n",
    "list_max_index = np.where(R_max_list == max(R_max_list))[0][0]\n",
    "index = np.where(R_list[list_max_index]==R_max_list[list_max_index])[0][0]"
   ]
  },
  {
   "cell_type": "markdown",
   "metadata": {},
   "source": [
    "Here we consider biases from detector noise. We play the same game as before. \n",
    "For each element of the cumulative $\\Delta H_\\text{conf}$, we draw a random realization of the noise. \n",
    "\n",
    "A key difference is that here we do not cumulate the detector noise."
   ]
  },
  {
   "cell_type": "code",
   "execution_count": 19,
   "metadata": {
    "collapsed": true
   },
   "outputs": [],
   "source": [
    "lnMc_noise = []\n",
    "eta_noise  = []\n",
    "beta_noise = []\n",
    "\n",
    "for i in range(0,len(h_missed)):\n",
    "    \n",
    "    \n",
    "    # Bias vectors from FM calculated offline and DeltaH up to i.\n",
    "    deriv_inn_prod_lnMc_noise = inner_prod_FD(d_dlnMc,n_f[i],PSD,delta_f)\n",
    "    deriv_inn_prod_eta_noise  = inner_prod_FD(d_deta,n_f[i],PSD,delta_f)\n",
    "    deriv_inn_prod_beta_noise = inner_prod_FD(d_dbeta,n_f[i],PSD,delta_f)\n",
    "    \n",
    "    b_noise = [deriv_inn_prod_lnMc_noise,deriv_inn_prod_eta_noise,\n",
    "                    deriv_inn_prod_beta_noise]\n",
    "    \n",
    "    # Find the associated biases\n",
    "    biases_pred_noise = np.matmul(FM_inv,b_noise)\n",
    "    \n",
    "    # Append the biases on lists.\n",
    "    lnMc_noise.append(biases_pred_noise[0])\n",
    "    eta_noise.append(biases_pred_noise[1])\n",
    "    beta_noise.append(biases_pred_noise[2])\n",
    "\n",
    "\n",
    "# Bias ratios\n",
    "R_lnMc_noise = abs(lnMc_noise/np.sqrt(FM_inv[0][0]))\n",
    "R_eta_noise = abs(eta_noise/np.sqrt(FM_inv[1][1]))\n",
    "R_beta_noise = abs(beta_noise/np.sqrt(FM_inv[2][2]))"
   ]
  },
  {
   "cell_type": "markdown",
   "metadata": {},
   "source": [
    "Plot the findings, both for confusion and detector noise. "
   ]
  },
  {
   "cell_type": "code",
   "execution_count": 20,
   "metadata": {},
   "outputs": [
    {
     "data": {
      "image/png": "[encoded data removed]",
      "text/plain": [
       "<Figure size 1152x504 with 3 Axes>"
      ]
     },
     "metadata": {},
     "output_type": "display_data"
    }
   ],
   "source": [
    "plt.rcParams.update({\n",
    "    \"text.usetex\": True,\n",
    "    \"font.family\": \"serif\",\n",
    "    \"font.serif\": [\"Palatino\"],\n",
    "    \"font.size\":17\n",
    "})\n",
    "\n",
    "# Set up subplots\n",
    "fig,ax = plt.subplots(3,figsize = (16,7))\n",
    "\n",
    "ax[0].plot(R_lnMc,'*',color='red',alpha = 0.8,label='Confusion noise')\n",
    "ax[0].plot(R_lnMc_noise,'*',color='gray',alpha = 0.8,label='Detector noise')\n",
    "ax[0].plot(index,abs(lnMc_cumulative_bias[index]/np.sqrt(FM_inv[0][0])),'*',color='black')\n",
    "ax[0].axhline(y=1, color='black', linestyle='--')\n",
    "ax[0].set_ylabel(r'$\\mathcal{R}(\\Delta\\log M_c)$')\n",
    "ax[0].legend(loc=\"upper left\")\n",
    "\n",
    "ax[1].plot(R_eta,'*',color='red',alpha = 0.8)\n",
    "ax[1].plot(R_eta_noise,'*',color='gray',alpha = 0.8)\n",
    "ax[1].plot(index,abs(eta_cumulative_bias[index]/np.sqrt(FM_inv[1][1])),'*',color='black')\n",
    "ax[1].axhline(y=1, color='black', linestyle='--')\n",
    "ax[1].set_ylabel(r'$\\mathcal{R}(\\Delta\\eta)$')\n",
    "\n",
    "ax[2].plot(R_beta,'*',color='red',alpha = 0.8)\n",
    "ax[2].plot(R_beta_noise,'*',color='gray',alpha = 0.8)\n",
    "ax[2].plot(index,abs(beta_cumulative_bias[index]/np.sqrt(FM_inv[2][2])),'*',color='black')\n",
    "ax[2].axhline(y=1, color='black', linestyle='--')\n",
    "ax[2].set_ylabel(r'$\\mathcal{R}(\\Delta\\beta)$')\n",
    "\n",
    "plt.xlabel(r'$N_U$')\n",
    "#plt.savefig('noise_det_conf.pdf')\n",
    "plt.show()"
   ]
  },
  {
   "cell_type": "markdown",
   "metadata": {},
   "source": [
    "For the MCMC check, we pick the instance of $\\Delta H_\\text{conf}$ that gives the biggest overall beta. We have found the index for that above."
   ]
  },
  {
   "cell_type": "code",
   "execution_count": 21,
   "metadata": {
    "collapsed": true
   },
   "outputs": [],
   "source": [
    "H_conf = H_conf_list[index]\n",
    "n_f_max = n_f[index]"
   ]
  },
  {
   "cell_type": "markdown",
   "metadata": {},
   "source": [
    "### Build the data array"
   ]
  },
  {
   "cell_type": "markdown",
   "metadata": {},
   "source": [
    "Finally, set up the data in the frequency domain. We add the noise realization drawn for the ith configuration of $\\Delta H_\\text{conf}$ with largest bias, the confusion noise and the reference signal.\n",
    "\n",
    "We do not include waveform errors in the signal, so we expect no biases from it."
   ]
  },
  {
   "cell_type": "code",
   "execution_count": 22,
   "metadata": {
    "collapsed": true
   },
   "outputs": [],
   "source": [
    "# resolved signals:\n",
    "\n",
    "h_true_vec_f = htilde(freq,Deff,pars,1,tref,phiref)\n",
    "\n",
    "# data array\n",
    "\n",
    "data_f_vec = h_true_vec_f + H_conf + n_f_max"
   ]
  },
  {
   "cell_type": "markdown",
   "metadata": {},
   "source": [
    "And finally we calculate the SNRs, to check that both resolved and sum of the unresolved signals are high enough."
   ]
  },
  {
   "cell_type": "code",
   "execution_count": 23,
   "metadata": {},
   "outputs": [
    {
     "name": "stdout",
     "output_type": "stream",
     "text": [
      "Optimal SNR for the resolved source is 4192.460684266009\n",
      "SNR of confusion noise: 191.74735880676045\n"
     ]
    }
   ],
   "source": [
    "# SNR of the resolved source\n",
    "\n",
    "SNR2 = inner_prod_FD(data_f_vec,h_true_vec_f,PSD,delta_f) \n",
    "h_SNR2 = inner_prod_FD(h_true_vec_f,h_true_vec_f,PSD,delta_f)  #CTFT\n",
    "\n",
    "rho = np.sqrt(SNR2)\n",
    "print('Optimal SNR for the resolved source is',rho)\n",
    "print('SNR of confusion noise:',np.sqrt(inner_prod_FD(H_conf,H_conf,PSD,delta_f)))"
   ]
  },
  {
   "cell_type": "markdown",
   "metadata": {
    "collapsed": true
   },
   "source": [
    "### MCMC checks"
   ]
  },
  {
   "cell_type": "markdown",
   "metadata": {
    "collapsed": true
   },
   "source": [
    "Here we setup the MCMC check. First of all we write down the priors."
   ]
  },
  {
   "cell_type": "code",
   "execution_count": 24,
   "metadata": {
    "collapsed": true
   },
   "outputs": [],
   "source": [
    "# Priors on frequency\n",
    "eta_low_range = 0.01  \n",
    "eta_high_range = 0.25\n",
    "\n",
    "# Priors on the phase\n",
    "logMchirp_low_range = np.log(10*M_sun)\n",
    "logMchirp_high_range = np.log(20000000*M_sun)\n",
    "\n",
    "# Priors on spin parameters: check Berti, Buonanno, Will.\n",
    "beta_low = 0.1\n",
    "beta_high = 9.4"
   ]
  },
  {
   "cell_type": "code",
   "execution_count": 25,
   "metadata": {
    "collapsed": true
   },
   "outputs": [],
   "source": [
    "def lprior_eta(eta):\n",
    "\n",
    "\n",
    "    if eta < eta_low_range or eta > eta_high_range: # are you out of your range?\n",
    "        print('I am out of my range. Problem is eta.')\n",
    "        return -1e10 \n",
    "    else:\n",
    "        return np.log(1/(eta_high_range - eta_low_range))\n",
    "\n",
    "def lprior_logMchirp(logMchirp):\n",
    "    \n",
    "    if logMchirp < logMchirp_low_range or logMchirp > logMchirp_high_range: # are you out of your range?\n",
    "        print('I am out of my range. Problem is Mchirp.')\n",
    "        return -1e10\n",
    "    else:\n",
    "        return np.log(1/(logMchirp_high_range - logMchirp_low_range))\n",
    "\n",
    "def lprior_beta(beta):\n",
    "\n",
    "    \n",
    "    if beta < beta_low or beta > beta_high: # are you out of your range?\n",
    "        print('I am out of my range. Problem is beta.')\n",
    "        return -1e10\n",
    "    else:\n",
    "        return np.log(1/(beta_high - beta_low))"
   ]
  },
  {
   "cell_type": "markdown",
   "metadata": {},
   "source": [
    "Next we calculate the (log-)likelihood.\n",
    "$$\n",
    "p(d|\\theta)\\sim \\exp\\left\\{\\frac{1}{2}\\left(d-h|d-h\\right)\\right\\}\n",
    "$$\n",
    "and the log posterior."
   ]
  },
  {
   "cell_type": "code",
   "execution_count": 26,
   "metadata": {
    "collapsed": true
   },
   "outputs": [],
   "source": [
    "\"\"\"\n",
    "These functions were originally coded up by Ollie Burke.\n",
    "They must be changed based on the parameters to sample through and their priors.\n",
    "\"\"\"\n",
    "\n",
    "def llike(params, data_f):\n",
    "    \"\"\"\n",
    "    Assumption: Known PSD otherwise need additional term.\n",
    "    Search the posterior with your approximate waveform.\n",
    "    \"\"\"\n",
    "    signal_f = htilde(freq,Deff,params,1,tref,phiref)\n",
    "    return(-0.5 * np.sum((np.abs(data_f - signal_f)**2) / noisevar))\n",
    "\n",
    "def lpost(params):\n",
    "    '''\n",
    "    Compute log posterior.\n",
    "    '''\n",
    "    data_f = data_f_vec\n",
    "    logMchirp = params[0]\n",
    "    eta = params[1]\n",
    "    beta = params[2]\n",
    "    \n",
    "    if beta < beta_low or beta > beta_high or eta < eta_low_range or eta > eta_high_range or logMchirp < logMchirp_low_range or logMchirp > logMchirp_high_range:\n",
    "        res = -np.inf\n",
    "    else:\n",
    "        res = llike(params, data_f) + lprior_logMchirp(params[0]) + lprior_eta(params[1])+lprior_beta(params[2])\n",
    "\n",
    "    return res"
   ]
  },
  {
   "cell_type": "markdown",
   "metadata": {},
   "source": [
    "Here we define and run the sampler. Notice we only consider the parameters of the reference signal."
   ]
  },
  {
   "cell_type": "code",
   "execution_count": 27,
   "metadata": {
    "scrolled": true
   },
   "outputs": [
    {
     "name": "stderr",
     "output_type": "stream",
     "text": [
      "100%|██████████| 10000/10000 [00:24<00:00, 415.84it/s]\n"
     ]
    }
   ],
   "source": [
    "iterations = 10000\n",
    "\n",
    "\n",
    "pos = [logMchirp_true,eta_true,beta_true]\n",
    "\n",
    "\n",
    "\"\"\"\n",
    "Notice that here we start around the true values. In this sense we are\n",
    "not perfoming a search, but merely checking Fisher estimates. Change the prefactor \n",
    "of the random number if you want to explore a bit more of the parameter space.\n",
    "\"\"\"\n",
    "\n",
    "start= pos*(1+5e-14* np.random.randn(6, 3))\n",
    "\n",
    "# output\n",
    "nwalkers, ndim = start.shape\n",
    "sampler = emcee.EnsembleSampler(nwalkers, ndim, lpost)\n",
    "sampler.run_mcmc(start, iterations, progress=True)\n",
    "flat_samples = sampler.get_chain(discard=1500, thin=1, flat=False)"
   ]
  },
  {
   "cell_type": "code",
   "execution_count": 28,
   "metadata": {},
   "outputs": [
    {
     "name": "stdout",
     "output_type": "stream",
     "text": [
      "number of samples =  (51000, 3)\n",
      "median =  [83.33722407  0.21017834  4.99296271]\n"
     ]
    }
   ],
   "source": [
    "\"\"\"\n",
    "Gather all the relevant samples here. If you increase the dimensionality of \n",
    "the toy model or problem in general, add more dimensions here as well.\n",
    "\"\"\"\n",
    "\n",
    "org_samp = np.vstack( (flat_samples[:,:,0].flatten() , flat_samples[:,:,1].flatten() , \n",
    "                       flat_samples[:,:,2].flatten() ) ).T\n",
    "print(\"number of samples = \", np.shape(org_samp))\n",
    "print(\"median = \", np.median(org_samp,axis=0))"
   ]
  },
  {
   "cell_type": "markdown",
   "metadata": {},
   "source": [
    "Here we check that the width of the MCMC posteriors is consistent with the likelihood width prediction from the Fisher matrix of the reference signal."
   ]
  },
  {
   "cell_type": "code",
   "execution_count": 29,
   "metadata": {},
   "outputs": [
    {
     "name": "stdout",
     "output_type": "stream",
     "text": [
      "FM width predictions: [4.04889582e-06 1.90917463e-05 8.96193457e-04]\n",
      "MC width predictions: [4.0731680034e-06, 1.914715705278e-05, 0.00089782117656673]\n"
     ]
    }
   ],
   "source": [
    "# errors on lnMc, eta, beta.\n",
    "print('FM width predictions:',np.sqrt(np.diag(np.linalg.inv(fish_mix))))\n",
    "\n",
    "\"\"\"\n",
    "Width of posteriors from MCMC. This should be close to the FM\n",
    "approximation just above.\n",
    "\"\"\"\n",
    "print('MC width predictions:',  [np.round(np.sqrt(np.var(flat_samples[:,:,0])),17),\n",
    "                                 np.round(np.sqrt(np.var(flat_samples[:,:,1])),17),\n",
    "                                 np.round(np.sqrt(np.var(flat_samples[:,:,2])),17)])"
   ]
  },
  {
   "cell_type": "code",
   "execution_count": 30,
   "metadata": {
    "collapsed": true
   },
   "outputs": [],
   "source": [
    "# Nice plotting options for corner plots.\n",
    "\n",
    "plt.rcParams.update({\n",
    "    \"text.usetex\": True,\n",
    "    \"font.family\": \"serif\",\n",
    "    \"font.serif\": [\"Palatino\"],\n",
    "    \"font.size\":15\n",
    "})\n",
    "\n",
    "import matplotlib as mpl\n",
    "mpl.rcParams['axes.formatter.useoffset'] = True\n",
    "\n",
    "\n",
    "CORNER_KWARGS = dict(\n",
    "    smooth=0.99, # smooths out contours. \n",
    "    plot_datapoints=False, # choose if you want datapoints\n",
    "    label_kwargs=dict(fontsize=18), # font size for labels\n",
    "    show_titles=True, #choose if you want titles on top of densities.\n",
    "    title_kwargs=dict(fontsize=16), # font size for title\n",
    "    plot_density=False,\n",
    "    quantiles=[0.16, 0.84],  # add quantiles to plot densities. \n",
    "    levels=(1 - np.exp(-0.5), 1 - np.exp(-2), 1 - np.exp(-9 / 2.)),\n",
    "    fill_contours=True, #decide if you want to fill the contours\n",
    "    max_n_ticks=2, # set a limit to ticks in the x-y axes.\n",
    "    title_fmt=\".6f\", # format for high powers (here 10^2 ~ e+02 etc.)\n",
    "    reverse=False  # if you are a madman, reverse the whole contour.\n",
    ")"
   ]
  },
  {
   "cell_type": "code",
   "execution_count": 31,
   "metadata": {
    "collapsed": true
   },
   "outputs": [],
   "source": [
    "# Pick biases from massive lists above. \n",
    "# We expect the bias from the MCMC to be consistent with the one we obtained\n",
    "# through the Fisher analysis above.\n",
    "\n",
    "lnMc_bias_sig = lnMc_cumulative_bias[index]\n",
    "eta_bias_sig = eta_cumulative_bias[index]\n",
    "beta_bias_sig = beta_cumulative_bias[index]\n",
    "\n",
    "lnMc_noise_max = lnMc_noise[index]\n",
    "eta_noise_max = eta_noise[index]\n",
    "beta_noise_max = beta_noise[index]"
   ]
  },
  {
   "cell_type": "code",
   "execution_count": 32,
   "metadata": {},
   "outputs": [
    {
     "data": {
      "image/png": "[encoded data removed]",
      "text/plain": [
       "<Figure size 547.2x547.2 with 9 Axes>"
      ]
     },
     "metadata": {},
     "output_type": "display_data"
    }
   ],
   "source": [
    "labels = [r'$\\log\\mathcal{M}_c$', r'$\\eta$', r'$\\beta$']\n",
    "truths=[logMchirp_true,eta_true,beta_true]\n",
    "truths_bias_sig=[logMchirp_true+lnMc_bias_sig,\n",
    "                   eta_true+eta_bias_sig,\n",
    "                   beta_true+beta_bias_sig]\n",
    "truths_w_noise=[logMchirp_true+lnMc_bias_sig + lnMc_noise_max,\n",
    "                   eta_true+eta_bias_sig + eta_noise_max, \n",
    "                   beta_true+beta_bias_sig + beta_noise_max]\n",
    "\n",
    "fig =corner.corner(org_samp, bins=20,labels=labels, \n",
    "                    truths=truths_bias_sig,\n",
    "                    truth_color='green', \n",
    "                    color='black',**CORNER_KWARGS)\n",
    "\n",
    "corner.corner(org_samp, bins=20,labels=labels, \n",
    "                truths=truths_w_noise,\n",
    "                truth_color='orange', \n",
    "                color='black',fig = fig,**CORNER_KWARGS)\n",
    "\n",
    "orange_patch = mpatches.Patch(color='green', label='Predicted bias (missed signals)')\n",
    "red_patch = mpatches.Patch(color='orange', label='Predicted bias (missed signals')\n",
    "white_patch = mpatches.Patch(color='white', label='and detector noise).')\n",
    "\n",
    "plt.legend(handles=[orange_patch,red_patch,white_patch],bbox_to_anchor=(-1., 3.), \n",
    "           loc='upper left', borderaxespad=0.)\n",
    "#plt.savefig('confnoise_bias.pdf')\n",
    "plt.show()"
   ]
  },
  {
   "cell_type": "markdown",
   "metadata": {
    "collapsed": true
   },
   "source": [
    "Even in the most extreme case (based on significance of biases, in this case $\\sim 10\\sigma$!), the Fisher matrix is still valid. The prediction from the Fisher matrix is remarkably good."
   ]
  }
 ],
 "metadata": {
  "kernelspec": {
   "display_name": "Python 3",
   "language": "python",
   "name": "python3"
  },
  "language_info": {
   "codemirror_mode": {
    "name": "ipython",
    "version": 3
   },
   "file_extension": ".py",
   "mimetype": "text/x-python",
   "name": "python",
   "nbconvert_exporter": "python",
   "pygments_lexer": "ipython3",
   "version": "3.6.2"
  }
 },
 "nbformat": 4,
 "nbformat_minor": 2
}
