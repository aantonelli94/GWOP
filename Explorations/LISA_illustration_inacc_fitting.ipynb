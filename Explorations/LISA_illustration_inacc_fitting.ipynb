{
 "cells": [
  {
   "cell_type": "markdown",
   "metadata": {},
   "source": [
    "## Explorations with multiple signals"
   ]
  },
  {
   "cell_type": "code",
   "execution_count": 1,
   "metadata": {},
   "outputs": [],
   "source": [
    "# Import packages that you may already have pip installed in your environment.\n",
    "\n",
    "import sys\n",
    "import scipy\n",
    "\n",
    "import numpy as np\n",
    "import matplotlib.pyplot as plt\n",
    "import time\n",
    "from math import *\n",
    "from scipy import signal\n",
    "import os\n",
    "import warnings\n",
    "\n",
    "# Import other packages which are less common and specific to the task at hand.\n",
    "\n",
    "import emcee\n",
    "import corner\n",
    "import multiprocessing as mp\n",
    "import matplotlib.patches as mpatches\n",
    "\n",
    "# Initialize random number generator.\n",
    "np.random.seed(12645)"
   ]
  },
  {
   "cell_type": "markdown",
   "metadata": {},
   "source": [
    "###  Functions and utils"
   ]
  },
  {
   "cell_type": "code",
   "execution_count": 2,
   "metadata": {
    "collapsed": true
   },
   "outputs": [],
   "source": [
    "# Bunch of units\n",
    "\n",
    "GM_sun = 1.3271244*1e20\n",
    "c =2.9979246*1e8\n",
    "M_sun =1.9884099*1e30\n",
    "G = 6.6743*1e-11\n",
    "pc= 3.0856776*1e16\n",
    "pi = np.pi\n",
    "Mpc = 10**6 * pc"
   ]
  },
  {
   "cell_type": "markdown",
   "metadata": {},
   "source": [
    "Power Spectral Density **with** noise confusion from galactic binaries, as fitted after one year of observation time in https://arxiv.org/pdf/1803.01944.pdf."
   ]
  },
  {
   "cell_type": "code",
   "execution_count": 3,
   "metadata": {
    "collapsed": true
   },
   "outputs": [],
   "source": [
    "def PowerSpectralDensity(f):\n",
    "    \"\"\"\n",
    "    Power Spectral Density for the LISA detector assuming it has been active for a year. \n",
    "    I found an analytic version in one of Niel Cornish's paper which he submitted to the arXiv in\n",
    "    2018. I evaluate the PSD at the frequency bins found in the signal FFT.\n",
    "    \n",
    "    PSD obtained from: https://arxiv.org/pdf/1803.01944.pdf.\n",
    "    Values chosen for confusion noise after 1 year of observation.\n",
    "    [16/12/2020]: removed confusion noise after 1 year of observation. Avoid confusion\n",
    "                  between different timescales of the problem.\n",
    "    \n",
    "    \"\"\"\n",
    "    \n",
    "    sky_averaging_constant = 1.0 # set to one for one source\n",
    "    #(20/3) # Sky Averaged <--- I got this from Jonathan's notes\n",
    "    L = 2.5*10**9   # Length of LISA arm\n",
    "    f0 = 19.09*10**(-3)    \n",
    "\n",
    "    Poms = ((1.5e-11)*(1.5e-11))*(1 + np.power((2e-3)/f, 4))  # Optical Metrology Sensor\n",
    "    Pacc = (3e-15)*(3e-15)* (1 + (4e-4/f)*(4e-4/f))*(1 + np.power(f/(8e-3),4 ))  # Acceleration Noise\n",
    "    alpha = 0.171\n",
    "    beta = 292\n",
    "    k =1020\n",
    "    gamma = 1680\n",
    "    f_k = 0.00215 \n",
    "    Sc = 9e-45 * np.power(f,-7/3)*np.exp(-np.power(f,alpha) + beta*f*np.sin(k*f)) * (1 + np.tanh(gamma*(f_k- f)))  \n",
    "\n",
    "    PSD = (sky_averaging_constant)* ((10/(3*L*L))*(Poms + (4*Pacc)/(np.power(2*np.pi*f,4)))*(1 + 0.6*(f/f0)*(f/f0)) + Sc) # PSD\n",
    "\n",
    "    return PSD"
   ]
  },
  {
   "cell_type": "code",
   "execution_count": 4,
   "metadata": {
    "collapsed": true
   },
   "outputs": [],
   "source": [
    "def inner_prod_FD(sig1_f,sig2_f,PSD,delta_f):\n",
    "    \"\"\"\n",
    "    Only makes sense for continuous fourier transforms. (No dt's floating around). \n",
    "    This takes as input dimensionful quantities.\n",
    "    \n",
    "    This is the continous Fourier transform inner product.\n",
    "    \"\"\"\n",
    "    return (4*delta_f) * np.real(np.sum(np.conjugate(sig1_f)*sig2_f/PSD))"
   ]
  },
  {
   "cell_type": "markdown",
   "metadata": {},
   "source": [
    "Here we define the TaylorF2 approximant up to 3.5PN contributions.\n",
    "References for TaylorF2 models\n",
    "\n",
    "- https://arxiv.org/pdf/gr-qc/0509116.pdf [Eqs (3.4)]\n",
    "- https://arxiv.org/pdf/0907.0700.pdf [Eqs.(3.17)-(3.18)]"
   ]
  },
  {
   "cell_type": "code",
   "execution_count": 5,
   "metadata": {
    "collapsed": true
   },
   "outputs": [],
   "source": [
    "def htilde(f,Deff,params,tc,phic,tune):\n",
    "    \n",
    "    \"\"\"\n",
    "    Here we calculate a TaylorF2 model up to 2PN which takes as input the following\n",
    "    set of parameters: (log of chirp mass, symmetric mass ratio, beta).\n",
    "    This can easily be changed in the first few lines where the parameters are loaded.\n",
    "    The main reference is https://arxiv.org/pdf/gr-qc/0509116.pdf [Eqs (3.4)].\n",
    "    \n",
    "    Important:\n",
    "    \n",
    "    This model is defined in the frequency domain directly and it necessitates\n",
    "    continuous fourier transforms in the inner products (no discretizations!)\n",
    "    \n",
    "    Note on distance: \n",
    "    \n",
    "    Notice that the effective distance contains information about the angular dependence\n",
    "    of the binary. The model can thus be used for all detectors, as long as this distance\n",
    "    parameter is chosen consistently. \n",
    "    \n",
    "    Note on spin: \n",
    "    \n",
    "    The spin parameter beta is defined in Eq.(2.3a) in [arxiv:0411129].\n",
    "    Notice that this quantity is constructed in such a way to be smaller or equal\n",
    "    than 9.4, and of course it ranges from 0 (no spins) to this upper value. \n",
    "    The coefficient enters the phase as in Eq.(2.2) in the same paper.\n",
    "    \"\"\"\n",
    "    # Units\n",
    "    \n",
    "    GM_sun = 1.3271244*1e20\n",
    "    c =2.9979246*1e8\n",
    "    M_sun =1.9884099*1e30\n",
    "    G = 6.6743*1e-11\n",
    "    pc= 3.0856776*1e16\n",
    "    pi = np.pi\n",
    "    Mpc = 10**6 * pc\n",
    "    \n",
    "    # Load the parameters\n",
    "    Mchirp_true = np.exp(params[0])\n",
    "    eta_true = params[1]\n",
    "    beta_true = params[2]\n",
    "    theta = -11831/9240 #in PN coefficients!\n",
    "    delta = -1987/3080  #in PN coefficients!\n",
    "    \n",
    "    # PN expansion parameter (velocity).\n",
    "    v = (pi*G*Mchirp_true*eta_true**(-3/5)/(c**3) * f)**(1/3)\n",
    "    \n",
    "    # Amplitude explicitly given in terms of units and frequency.\n",
    "    # Notice that lowest PN order here is fine. Biggest contributions from phase.\n",
    "    amplitude_1 = - (Mpc/Deff)*np.sqrt((5/(24*pi)))*(GM_sun/(c**2 *Mpc))\n",
    "    amplitude_2 = (pi*GM_sun/(c**3))**(-1/6) * (Mchirp_true/M_sun)**(5/6)\n",
    "    amplitude = amplitude_1*amplitude_2 * f**(-7/6)\n",
    "    \n",
    "    # Phase: add or remove PN orders here as you see fit.\n",
    "    psi_const = 2*pi*f*tc - 2*phic - pi/4\n",
    "    psi1PN = (3715/756+55/9*eta_true)*v**(-3)\n",
    "    psi1_5PN_tails = -16*pi*v**(-2)\n",
    "    psi1_5PN_spin = 4*beta_true*v**(-2)\n",
    "    psi2PN = (15293365/508032+27145/504*eta_true+3085/72*eta_true**2)*v**(-1)\n",
    "    psi25PNlog = pi*(38645/252- 65/3 *eta_true)* np.log(v)\n",
    "    psi3PN = v*(11583231236531/4694215680 -640/3 * pi**2 -6848/21 *np.euler_gamma\n",
    "              + eta_true*(-15335597827/3048192+2255/12 * pi**2-1760/3 * theta - 12320/9 * delta)\n",
    "              + eta_true**2 *76055/1728 - eta_true**3 * 127825/1296 - 6848/21 * np.log(4))\n",
    "    psi3PNlog = - 6848/21 *v * np.log(v)\n",
    "    psi35PN = pi * v**2 * (77096675./254016 + 378515./1512 *eta_true - 74045./756 * eta_true**2* tune)\n",
    "\n",
    "    psi_fullPN = 3/(128*eta_true)*(v**(-5)+psi1PN+psi1_5PN_tails+psi1_5PN_spin+psi2PN\n",
    "                                  + psi25PNlog + psi3PN + psi3PNlog + psi35PN)\n",
    "    psi = psi_const + psi_fullPN \n",
    "    \n",
    "    return amplitude* np.exp(-1j*psi)"
   ]
  },
  {
   "cell_type": "markdown",
   "metadata": {},
   "source": [
    "Add in function to gauge time to chirp (used to get total observation time for each binary)"
   ]
  },
  {
   "cell_type": "code",
   "execution_count": 6,
   "metadata": {
    "collapsed": true
   },
   "outputs": [],
   "source": [
    "def T_chirp(fmin,M_chirp,eta):\n",
    "    \n",
    "    \"\"\"\n",
    "    Function to give time at chirp from an initial frequency. \n",
    "    Used to pick out the total observation time. \n",
    "    \"\"\"\n",
    "    \n",
    "    M = M_chirp*eta**(-3/5)\n",
    "    v_low = (pi*G*M_chirp*eta**(-3/5)/(c**3) * fmin)**(1/3)\n",
    "    \n",
    "    theta = -11831/9240 #in PN coefficients!\n",
    "    delta = -1987/3080  #in PN coefficients!\n",
    "    gamma = np.euler_gamma\n",
    "    \n",
    "    pre_fact = ((5/(256*eta)) * G*M/(c**3))\n",
    "    first_term = (v_low**(-8) + (743/252 + (11/3) * eta ) * (v_low **(-6)) - (32*np.pi/5)*v_low**(-5)\n",
    "                +(3058673/508032 + (5429/504)*eta + (617/72)*eta**2)*v_low**(-4)\n",
    "                 +(13*eta/3 - 7729/252)*np.pi*v_low**-3)\n",
    "    \n",
    "    second_term = (6848*gamma/105 - 10052469856691/23471078400 + 128*pi**2/3 + (\n",
    "    3147553127/3048192 - 451*(pi**2)/12)*eta - (15211*eta**2)/1728 + (2555*eta**3 / 1296) +\n",
    "                   (6848/105)*np.log(4*v_low))*v_low**-2\n",
    "    \n",
    "    third_term = ((14809/378)*eta**2 - (75703/756) * eta - 15419335/127008)*pi*v_low**-1\n",
    "    return pre_fact * (first_term + second_term + third_term)"
   ]
  },
  {
   "cell_type": "markdown",
   "metadata": {},
   "source": [
    "### Generate resolvable signals and discretize signal"
   ]
  },
  {
   "cell_type": "markdown",
   "metadata": {},
   "source": [
    "Input some true parameters for the true signal and for the unresolved binaries. We choose these to resemble a gravitational wave passing by."
   ]
  },
  {
   "cell_type": "code",
   "execution_count": 7,
   "metadata": {
    "collapsed": true
   },
   "outputs": [],
   "source": [
    "# minimum frequency\n",
    "\n",
    "fmin =  0.0005"
   ]
  },
  {
   "cell_type": "code",
   "execution_count": 8,
   "metadata": {
    "collapsed": true
   },
   "outputs": [],
   "source": [
    "\"\"\"\n",
    "Reference signal parameters\n",
    "\"\"\"\n",
    "\n",
    "# Find a resonable distance for the signal \n",
    "\n",
    "Deff = 10**4 *Mpc\n",
    "logDeff = np.log(Deff)\n",
    "\n",
    "beta_true = 5.0\n",
    "eta_true = 0.2\n",
    "mtot = 2*1e6 #in solar masses\n",
    "Mchirp = mtot*(eta_true)**(3/5)\n",
    "Mchirp_true =Mchirp* M_sun\n",
    "logMchirp_true = np.log(Mchirp_true)\n",
    "\n",
    "pars = [logMchirp_true,eta_true,beta_true] # array of parameters to sample through\n",
    "\n",
    "# Fix these two impostors, assume they are known perfectly.\n",
    "tref =T_chirp(fmin,Mchirp_true,eta_true)\n",
    "phiref =0.\n",
    "\n",
    "\"\"\"\n",
    "Overlapping signal #1 \n",
    "\"\"\"\n",
    "\n",
    "# Find a resonable distance for the signal \n",
    "\n",
    "Deff_ov1 = 3*10**3 *Mpc\n",
    "logDeff_ov1 = np.log(Deff_ov1)\n",
    "\n",
    "beta_ov1 = 1.0\n",
    "eta_ov1 = 0.23\n",
    "mtot_ov1 = 1*1e6 #in solar masses\n",
    "Mchirp_ov1 = mtot_ov1*(eta_ov1)**(3/5)\n",
    "Mchirp_ov1 =Mchirp_ov1* M_sun\n",
    "logMchirp_ov1 = np.log(Mchirp_ov1)\n",
    "\n",
    "pars_ov1 = [logMchirp_ov1,eta_ov1,beta_ov1] # array of parameters to sample through\n",
    "\n",
    "# Fix these two impostors, assume they are known perfectly.\n",
    "\n",
    "tov1 =T_chirp(fmin,Mchirp_ov1,eta_ov1)\n",
    "phiov1 =np.pi\n",
    "\n",
    "\"\"\"\n",
    "Overlapping signal #2 \n",
    "\"\"\"\n",
    "\n",
    "# Find a resonable distance for the signal \n",
    "\n",
    "Deff_ov2 = 2*10**3 *Mpc\n",
    "logDeff_ov2 = np.log(Deff_ov2)\n",
    "\n",
    "beta_ov2 = 2.4\n",
    "eta_ov2 = 0.08\n",
    "mtot_ov2 = 4*1e6 #in solar masses\n",
    "Mchirp_ov2 = mtot_ov2*(eta_ov2)**(3/5)\n",
    "Mchirp_ov2 =Mchirp_ov2* M_sun\n",
    "logMchirp_ov2 = np.log(Mchirp_ov2)\n",
    "\n",
    "pars_ov2 = [logMchirp_ov2,eta_ov2,beta_ov2] # array of parameters to sample through\n",
    "\n",
    "# Fix these two impostors, assume they are known perfectly.\n",
    "\n",
    "tov2 =T_chirp(fmin,Mchirp_ov2,eta_ov2)\n",
    "phiov2 =.3*np.pi"
   ]
  },
  {
   "cell_type": "markdown",
   "metadata": {},
   "source": [
    "Here we set up the signal in the time and frequency domain.\n",
    "Notice that the discretization of the signal depends on the chosen masses of the system in the first place!"
   ]
  },
  {
   "cell_type": "code",
   "execution_count": 9,
   "metadata": {},
   "outputs": [
    {
     "name": "stdout",
     "output_type": "stream",
     "text": [
      "df: 4.399587919016278e-05\n",
      "We observe for 22729.4 s,  0.3 days,  0.0007 yr\n",
      "fmin: 0.0005\n",
      "fmax (chirp): 0.0021985873919213874\n",
      "Length of frequency array: 39\n"
     ]
    }
   ],
   "source": [
    "\"\"\"\n",
    "Discretization of the signal.\n",
    "\"\"\"\n",
    "\n",
    "fmax =  c**3/(6*np.sqrt(6)*pi*G*Mchirp_true *eta_true**(-3/5))\n",
    "t_year = 365*24*60*60       \n",
    "\n",
    "# Take signal in seconds. \n",
    "# Pick lowest observation time among all sources. \n",
    "\n",
    "T_obs = min(T_chirp(fmin,Mchirp_true,eta_true),\n",
    "            T_chirp(fmin,Mchirp_ov1,eta_ov1),\n",
    "             T_chirp(fmin,Mchirp_ov2,eta_ov2)\n",
    "            )\n",
    "\n",
    "delta_t = 1/(2*fmax)\n",
    "t = np.arange(0,T_obs,delta_t)\n",
    "N_t = int(2**np.ceil(np.log2(len(t))))  # Length of time domain padded signals\n",
    "\n",
    "delta_f = 1/T_obs\n",
    "freq = np.arange(fmin,fmax,delta_f)\n",
    "\n",
    "print('df:', delta_f)\n",
    "print('We observe for',\n",
    "      np.round(T_obs,1),'s, ',\n",
    "      np.round(12*30*T_obs/t_year,1),'days, ',\n",
    "      np.round(T_obs/t_year,4),'yr')\n",
    "print('fmin:', fmin)\n",
    "print('fmax (chirp):', fmax)\n",
    "print('Length of frequency array:', len(freq))"
   ]
  },
  {
   "cell_type": "markdown",
   "metadata": {},
   "source": [
    "### Build the data array"
   ]
  },
  {
   "cell_type": "markdown",
   "metadata": {},
   "source": [
    "Next, we build up noise. We use Parseval's theorem to calculate the noise. This amounts to using the following variance\n",
    "\n",
    "$$\n",
    "\\sigma^2_n= \\frac{S_n}{4 dt} N_t\n",
    "$$\n",
    "\n",
    "where:\n",
    "\n",
    "- $\\sigma^2$ is the noise variance.\n",
    "- $S_n$ is the detector's PSD.\n",
    "- $dt$ is the sampling interval.\n",
    "- $N_t$ is the length of the (padded) signal."
   ]
  },
  {
   "cell_type": "code",
   "execution_count": 10,
   "metadata": {
    "collapsed": true
   },
   "outputs": [],
   "source": [
    "np.random.seed(12345)\n",
    "PSD = PowerSpectralDensity(freq)\n",
    "\n",
    "noisevar = PSD/(4*delta_f) # Noise variance defined for continuous FTs.\n",
    "noisemean = 0. \n",
    "\n",
    "noise_real = np.random.normal(noisemean,np.sqrt(noisevar)) # Compute real noise.\n",
    "noise_imag = np.random.normal(noisemean,np.sqrt(noisevar)) # Compute imaginary noise.\n",
    "\n",
    "n_f = np.array(noise_real + 1j*noise_imag)         # noise array in the frequency domain."
   ]
  },
  {
   "cell_type": "markdown",
   "metadata": {},
   "source": [
    "Finally, set up the data in the frequency domain. Add noise, extra signals etc. as you please, here. I warn against it."
   ]
  },
  {
   "cell_type": "code",
   "execution_count": 11,
   "metadata": {
    "collapsed": true
   },
   "outputs": [],
   "source": [
    "# resolved signals:\n",
    "\"\"\"\n",
    "Input your best available waveform in the data.\n",
    "\"\"\"\n",
    "\n",
    "tune_true = 1.0 # parameter giving h_GR\n",
    "tune_app = 0.7 # parameter defining h_AP\n",
    "\n",
    "\n",
    "# Resolved signals, no errors\n",
    "h_true_vec_f = htilde(freq,Deff,pars,tref,phiref,tune_true)\n",
    "\n",
    "\"\"\"\n",
    "If you want to treat residuals as missed signals change tune_true\n",
    "to tune_app below in ov1 and ov2. This implies we are fitting \n",
    "the signals out perfectly.\n",
    "\"\"\"\n",
    "# Overlapping signals\n",
    "h_ov1_f = htilde(freq,Deff_ov1,pars_ov1,tov1,phiov1,tune_true) \n",
    "h_ov2_f = htilde(freq,Deff_ov2,pars_ov2,tov2,phiov2,tune_true)\n",
    "\n",
    "# Confusion noise from residuals\n",
    "\n",
    "deltaref =(htilde(freq,Deff,pars,tref,phiref,tune_true) \n",
    "           - htilde(freq,Deff,pars,tref,phiref,tune_app))\n",
    "deltah1 = (htilde(freq,Deff_ov1,pars_ov1,tov1,phiov1,tune_true) \n",
    "           - htilde(freq,Deff_ov1,pars_ov1,tov1,phiov1,tune_app))\n",
    "deltah2 = (htilde(freq,Deff_ov2,pars_ov2,tov2,phiov2,tune_true) \n",
    "           - htilde(freq,Deff_ov2,pars_ov2,tov2,phiov2,tune_app))\n",
    "\n",
    "deltah = deltah1 + deltah2 #+ deltaref \n",
    "\n",
    "# data array\n",
    "\n",
    "\"\"\"\n",
    "If you want to consider residuals as missed signals, add in the\n",
    "residuals below as confusion noise. It only works of course\n",
    "if we have simultaneously made the change aboce!\n",
    "\"\"\"\n",
    "data_f_vec = (h_true_vec_f \n",
    "              + h_ov1_f \n",
    "              + h_ov2_f \n",
    "              #+ deltah # residuals as confusion noise\n",
    "             )"
   ]
  },
  {
   "cell_type": "code",
   "execution_count": 12,
   "metadata": {},
   "outputs": [
    {
     "name": "stdout",
     "output_type": "stream",
     "text": [
      "Overlap ref and #1: 0.18455620242610365\n",
      "Overlap ref and #2: -0.02851514778212562\n"
     ]
    }
   ],
   "source": [
    "# Overlaps\n",
    "\n",
    "def Overlap(sig1_f,sig2_f,PSD,delta_f):\n",
    "    numerator = inner_prod_FD(sig1_f,sig2_f,PSD,delta_f)\n",
    "    denominator = np.sqrt(inner_prod_FD(sig1_f,sig1_f,PSD,delta_f) \\\n",
    "                          * inner_prod_FD(sig2_f,sig2_f,PSD,delta_f))\n",
    "    return numerator/denominator\n",
    "\n",
    "print('Overlap ref and #1:',Overlap(h_true_vec_f,h_ov1_f,PSD,delta_f))\n",
    "print('Overlap ref and #2:',Overlap(h_true_vec_f,h_ov2_f,PSD,delta_f))"
   ]
  },
  {
   "cell_type": "markdown",
   "metadata": {},
   "source": [
    "And finally we calculate the SNRs, to check that both resolved and sum of the unresolved signals are high enough. If this is not true, then the MCMC will not sample properly, and the Fisher matrix formalism will not work.\n",
    "\n",
    "\n",
    "If we have chosen realistic numbers for the foreground, we should see the foreground completely dominates detector noise, with very different SNRs. \n",
    "\n",
    "We keep detector noise in the analysis, as we want to show it will not have an impact."
   ]
  },
  {
   "cell_type": "code",
   "execution_count": 13,
   "metadata": {},
   "outputs": [
    {
     "name": "stdout",
     "output_type": "stream",
     "text": [
      "Optimal SNR for the resolved source is 81.33306278417712\n",
      "Optimal SNR for the overlapping source(s) 789.3139045212895 2216.8624507878\n"
     ]
    }
   ],
   "source": [
    "# SNR of the resolved source\n",
    "\n",
    "h_SNR2 = inner_prod_FD(deltah,deltah,PSD,delta_f)  #CTFT\n",
    "h_ov_1 = inner_prod_FD(h_ov1_f, h_ov1_f,PSD,delta_f)\n",
    "h_ov_2 = inner_prod_FD(h_ov2_f, h_ov2_f,PSD,delta_f)\n",
    "#h_ov_3 = inner_prod_FD(h_ov3_f, h_ov3_f,PSD,delta_f)\n",
    "\n",
    "print('Optimal SNR for the resolved source is',np.sqrt(h_SNR2))\n",
    "print('Optimal SNR for the overlapping source(s)',np.sqrt(h_ov_1),\n",
    "      np.sqrt(h_ov_2)#np.sqrt(h_ov_3)\n",
    "     )"
   ]
  },
  {
   "cell_type": "code",
   "execution_count": 14,
   "metadata": {},
   "outputs": [
    {
     "name": "stdout",
     "output_type": "stream",
     "text": [
      "Optimal SNR for the overlapping source(s) [30.978512897049242, 76.2593147271557]\n"
     ]
    }
   ],
   "source": [
    "# SNR of the residuals\n",
    "\n",
    "dh_ov1 = htilde(freq,Deff_ov1,pars_ov1,tov1,phiov1,tune_true) - htilde(freq,Deff_ov1,pars_ov1,tov1,phiov1,tune_app) \n",
    "dh_ov2 = htilde(freq,Deff_ov2,pars_ov2,tov2,phiov2,tune_true) - htilde(freq,Deff_ov2,pars_ov2,tov2,phiov2,tune_app)\n",
    "#dh_ov3 = htilde(freq,Deff_ov3,pars_ov3,tov3,phiov3,tune_true) - htilde(freq,Deff_ov3,pars_ov3,tov3,phiov3,tune_app)\n",
    "dh_ov_list = [dh_ov1,dh_ov2]#,dh_ov3]\n",
    "\n",
    "dh_SNRov = [np.sqrt(inner_prod_FD(i,i,PSD,delta_f)) for i in dh_ov_list]\n",
    "\n",
    "print('Optimal SNR for the overlapping source(s)',dh_SNRov)"
   ]
  },
  {
   "cell_type": "markdown",
   "metadata": {
    "collapsed": true
   },
   "source": [
    "### Setting up the MCMC"
   ]
  },
  {
   "cell_type": "markdown",
   "metadata": {
    "collapsed": true
   },
   "source": [
    "Here we setup the MCMC check. First of all we write down the priors."
   ]
  },
  {
   "cell_type": "code",
   "execution_count": 15,
   "metadata": {
    "collapsed": true
   },
   "outputs": [],
   "source": [
    "# Priors on frequency\n",
    "eta_low_range = 0.01  \n",
    "eta_high_range = 0.25\n",
    "\n",
    "# Priors on the phase\n",
    "logMchirp_low_range = np.log(10*M_sun)\n",
    "logMchirp_high_range = np.log(20000000*M_sun)\n",
    "\n",
    "# Priors on spin parameters: check Berti, Buonanno, Will.\n",
    "beta_low = 0.1\n",
    "beta_high = 9.4"
   ]
  },
  {
   "cell_type": "code",
   "execution_count": 16,
   "metadata": {
    "collapsed": true
   },
   "outputs": [],
   "source": [
    "\"\"\"\n",
    "These functions were originally coded up by Ollie Burke.\n",
    "They must be changed based on the parameters to sample through and their priors.\n",
    "\"\"\"\n",
    "\n",
    "def lprior_eta(eta):\n",
    "\n",
    "\n",
    "    if eta < eta_low_range or eta > eta_high_range: # are you out of your range?\n",
    "        print('I am out of my range. Eta is the problem')\n",
    "        return -1e10 \n",
    "    else:\n",
    "        return np.log(1/(eta_high_range - eta_low_range))\n",
    "\n",
    "def lprior_logMchirp(logMchirp):\n",
    "    \n",
    "    if logMchirp < logMchirp_low_range or logMchirp > logMchirp_high_range: # are you out of your range?\n",
    "        print('I am out of my range. M is the problem')\n",
    "        return -1e10\n",
    "    else:\n",
    "        return np.log(1/(logMchirp_high_range - logMchirp_low_range))\n",
    "\n",
    "def lprior_beta(beta):\n",
    "\n",
    "    \n",
    "    if beta < beta_low or beta > beta_high: # are you out of your range?\n",
    "        print('I am out of my range. Beta is the problem')\n",
    "        return -1e10\n",
    "    else:\n",
    "        return np.log(1/(beta_high - beta_low))"
   ]
  },
  {
   "cell_type": "markdown",
   "metadata": {},
   "source": [
    "Next we calculate the (log-)likelihood.\n",
    "$$\n",
    "p(d|\\theta)\\sim \\exp\\left\\{\\frac{1}{2}\\left(d-h|d-h\\right)\\right\\}\n",
    "$$\n",
    "and the log posterior."
   ]
  },
  {
   "cell_type": "code",
   "execution_count": 17,
   "metadata": {
    "collapsed": true
   },
   "outputs": [],
   "source": [
    "\"\"\"\n",
    "These functions were originally coded up by Ollie Burke.\n",
    "They must be changed based on the parameters to sample through and their priors.\n",
    "\"\"\"\n",
    "\n",
    "def llike(params, data_f):\n",
    "    \"\"\"\n",
    "    Assumption: Known PSD otherwise need additional term.\n",
    "    Search the posterior with your approximate waveform.\n",
    "    \"\"\"\n",
    "    \n",
    "    logMchirp1 = params[0]\n",
    "    eta1 = params[1]\n",
    "    beta1 = params[2]\n",
    "    \n",
    "    logMchirp2 = params[3]\n",
    "    eta2 = params[4]\n",
    "    beta2 = params[5]\n",
    "    \n",
    "    logMchirp3 = params[6]\n",
    "    eta3 = params[7]\n",
    "    beta3 = params[8]\n",
    "\n",
    "    signal_f = (  htilde(freq,Deff,    [logMchirp1,eta1,beta1],tref,phiref,tune_true)\n",
    "                + htilde(freq,Deff_ov1,[logMchirp2,eta2,beta2],tov1,phiov1,tune_app)\n",
    "                 + htilde(freq,Deff_ov2,[logMchirp3,eta3,beta3],tov2,phiov2,tune_app)\n",
    "                 #+ htilde(freq,Deff_ov3,[logMchirp4,eta4,beta4],tov3,phiov3,tune_app)\n",
    "               )\n",
    "    return(-0.5 * np.sum((np.abs(data_f - signal_f)**2) / noisevar))\n",
    "\n",
    "def lpost(params):\n",
    "    '''\n",
    "    Compute log posterior.\n",
    "    Add parameters here as you see fit.\n",
    "    Add if clauses for each prior\n",
    "    '''\n",
    "    data_f = data_f_vec\n",
    "    \n",
    "    res = (llike(params, data_f) \n",
    "           # Prior reference signal\n",
    "           + lprior_logMchirp(params[0]) \n",
    "           + lprior_eta(params[1])\n",
    "           + lprior_beta(params[2])\n",
    "           # Prior overlap 1\n",
    "           + lprior_logMchirp(params[3]) \n",
    "           + lprior_eta(params[4])\n",
    "           + lprior_beta(params[5])\n",
    "#            # Prior overlap 2\n",
    "           + lprior_logMchirp(params[6]) \n",
    "           + lprior_eta(params[7])\n",
    "           + lprior_beta(params[8])\n",
    "          )\n",
    "\n",
    "    return res"
   ]
  },
  {
   "cell_type": "markdown",
   "metadata": {},
   "source": [
    "Here we code up the sampler"
   ]
  },
  {
   "cell_type": "code",
   "execution_count": 18,
   "metadata": {
    "scrolled": false
   },
   "outputs": [
    {
     "name": "stderr",
     "output_type": "stream",
     "text": [
      "100%|██████████| 10000/10000 [01:05<00:00, 152.95it/s]\n"
     ]
    }
   ],
   "source": [
    "iterations = 10000\n",
    "\n",
    "pos = [logMchirp_true,eta_true,beta_true,\n",
    "        logMchirp_ov1,eta_ov1,beta_ov1,\n",
    "        logMchirp_ov2,eta_ov2,beta_ov2\n",
    "      ]\n",
    "\n",
    "\n",
    "\"\"\"\n",
    "Notice that here we start around the true values. In this sense we are\n",
    "not perfoming a search, but merely checking Fisher estimates. Change the prefactor \n",
    "of the random number if you want to explore a bit more of the parameter space.\n",
    "\"\"\"\n",
    "\n",
    "start= pos*(1+1e-16* np.random.randn(2*len(pos), len(pos)))\n",
    "\n",
    "# output\n",
    "nwalkers, ndim = start.shape\n",
    "sampler = emcee.EnsembleSampler(nwalkers, ndim, lpost)\n",
    "sampler.run_mcmc(start, iterations, progress=True)\n",
    "flat_samples = sampler.get_chain(discard=1500, thin=1, flat=False)"
   ]
  },
  {
   "cell_type": "code",
   "execution_count": 19,
   "metadata": {},
   "outputs": [
    {
     "name": "stdout",
     "output_type": "stream",
     "text": [
      "number of samples =  (153000, 3)\n",
      "median =  [83.30771172  0.19977978  5.00867747]\n"
     ]
    }
   ],
   "source": [
    "\"\"\"\n",
    "Gather all the relevant samples here. If you increase the dimensionality of \n",
    "the toy model or problem in general, add more dimensions here as well.\n",
    "\"\"\"\n",
    "\n",
    "org_samp = np.vstack( (flat_samples[:,:,0].flatten() , flat_samples[:,:,1].flatten(), \n",
    "                       flat_samples[:,:,2].flatten())\n",
    "                        ).T\n",
    "print(\"number of samples = \", np.shape(org_samp))\n",
    "print(\"median = \", np.median(org_samp,axis=0))"
   ]
  },
  {
   "cell_type": "code",
   "execution_count": 20,
   "metadata": {
    "collapsed": true
   },
   "outputs": [],
   "source": [
    "# Nice plotting options for corner plots.\n",
    "\n",
    "plt.rcParams.update({\n",
    "    \"text.usetex\": True,\n",
    "    \"font.family\": \"serif\",\n",
    "    \"font.serif\": [\"Palatino\"],\n",
    "    \"font.size\":14\n",
    "})\n",
    "\n",
    "import matplotlib as mpl\n",
    "mpl.rcParams['axes.formatter.useoffset'] = False\n",
    "\n",
    "\n",
    "CORNER_KWARGS = dict(\n",
    "    smooth=0.99, # smooths out contours. \n",
    "    plot_datapoints=False, # choose if you want datapoints\n",
    "    label_kwargs=dict(fontsize=18), # font size for labels\n",
    "    show_titles=True, #choose if you want titles on top of densities.\n",
    "    title_kwargs=dict(fontsize=16), # font size for title\n",
    "    plot_density=False,\n",
    "    quantiles=[0.16, 0.84],  # add quantiles to plot densities. \n",
    "    levels=(1 - np.exp(-0.5), 1 - np.exp(-2), 1 - np.exp(-9 / 2.)),\n",
    "    fill_contours=True, #decide if you want to fill the contours\n",
    "    max_n_ticks=1, # set a limit to ticks in the x-y axes.\n",
    "    title_fmt=\".4f\", # format for high powers (here 10^2 ~ e+02 etc.)\n",
    "    reverse=False  # if you are a madman, reverse the whole contour.\n",
    ")"
   ]
  },
  {
   "cell_type": "code",
   "execution_count": 21,
   "metadata": {},
   "outputs": [
    {
     "data": {
      "image/png": "[encoded data removed]",
      "text/plain": [
       "<Figure size 547.2x547.2 with 9 Axes>"
      ]
     },
     "metadata": {},
     "output_type": "display_data"
    }
   ],
   "source": [
    "labels = [r'$\\log\\mathcal{M}^{(1)}_c$', r'$\\eta^{(1)}$', r'$\\beta^{(1)}$']\n",
    "truths=[logMchirp_true,eta_true,beta_true]\n",
    "\n",
    "range_values = [1.0,1.0,1.0]\n",
    "\n",
    "fig = corner.corner(org_samp, bins=30,labels=labels, \n",
    "                    truths=truths, range = range_values,\n",
    "                    truth_color='red', \n",
    "                    color='black',**CORNER_KWARGS)\n",
    "\n",
    "red_patch = mpatches.Patch(color='red', label='True values')\n",
    "plt.legend(handles=[red_patch],bbox_to_anchor=(-1., 3.1), \n",
    "           loc='upper left', borderaxespad=0.)\n",
    "plt.show()"
   ]
  },
  {
   "cell_type": "code",
   "execution_count": 22,
   "metadata": {
    "collapsed": true
   },
   "outputs": [],
   "source": [
    "#import pickle\n",
    "\n",
    "#pickle.dump( org_samp, open( \"inacc_rem_N15000.p\", \"wb\" ) )\n",
    "#org_samp_inacc_rem_N15000 = pickle.load( open( \"inacc_rem_N15000.p\", \"rb\" ) )"
   ]
  },
  {
   "cell_type": "markdown",
   "metadata": {},
   "source": [
    "### Bias from the Fisher formalism"
   ]
  },
  {
   "cell_type": "code",
   "execution_count": 23,
   "metadata": {
    "collapsed": true
   },
   "outputs": [],
   "source": [
    "lnMc_delta = 1e-8\n",
    "eta_delta = 1e-5\n",
    "beta_delta = 1e-6"
   ]
  },
  {
   "cell_type": "code",
   "execution_count": 24,
   "metadata": {
    "collapsed": true
   },
   "outputs": [],
   "source": [
    "\"\"\"\n",
    "Derivatives of reference signal.\n",
    "\"\"\"\n",
    "\n",
    "# Derivative wrt Mc.\n",
    "\n",
    "pars_p = [pars[0] + lnMc_delta,pars[1],pars[2]]\n",
    "pars_m = [pars[0] - lnMc_delta,pars[1],pars[2]]\n",
    "d_dlnMc_ref = (htilde(freq,Deff,pars_p,tref,phiref,tune_app)\n",
    "           -htilde(freq,Deff,pars_m,tref,phiref,tune_app))/(2*lnMc_delta)\n",
    "\n",
    "# Derivative wrt eta.\n",
    "\n",
    "pars_p = [pars[0],pars[1] + eta_delta,pars[2]]\n",
    "pars_m = [pars[0],pars[1] - eta_delta,pars[2]]\n",
    "d_deta_ref = (htilde(freq,Deff,pars_p,tref,phiref,tune_app)\n",
    "          -htilde(freq,Deff,pars_m,tref,phiref,tune_app))/(2*eta_delta)\n",
    "\n",
    "# Derivative wrt beta\n",
    "\n",
    "pars_p = [pars[0],pars[1],pars[2]+ beta_delta]\n",
    "pars_m = [pars[0],pars[1],pars[2]- beta_delta]\n",
    "d_dbeta_ref = (htilde(freq,Deff,pars_p,tref,phiref,tune_app)\n",
    "           -htilde(freq,Deff,pars_m,tref,phiref,tune_app))/(2*beta_delta)"
   ]
  },
  {
   "cell_type": "code",
   "execution_count": 25,
   "metadata": {
    "collapsed": true
   },
   "outputs": [],
   "source": [
    "\"\"\"\n",
    "Derivatives of overlapping signal #1.\n",
    "\"\"\"\n",
    "\n",
    "# Derivative wrt Mc.\n",
    "\n",
    "pars_p = [pars_ov1[0] + lnMc_delta,pars_ov1[1],pars_ov1[2]]\n",
    "pars_m = [pars_ov1[0] - lnMc_delta,pars_ov1[1],pars_ov1[2]]\n",
    "d_dlnMc_ov1 = (htilde(freq,Deff_ov1,pars_p,tov1,phiov1,tune_app)\n",
    "           -htilde(freq,Deff_ov1,pars_m,tov1,phiov1,tune_app))/(2*lnMc_delta)\n",
    "\n",
    "# Derivative wrt eta.\n",
    "\n",
    "pars_p = [pars_ov1[0],pars_ov1[1] + eta_delta,pars_ov1[2]]\n",
    "pars_m = [pars_ov1[0],pars_ov1[1] - eta_delta,pars_ov1[2]]\n",
    "d_deta_ov1 = (htilde(freq,Deff_ov1,pars_p,tov1,phiov1,tune_app)\n",
    "          -htilde(freq,Deff_ov1,pars_m,tov1,phiov1,tune_app))/(2*eta_delta)\n",
    "\n",
    "# Derivative wrt beta\n",
    "\n",
    "pars_p = [pars_ov1[0],pars_ov1[1],pars_ov1[2]+ beta_delta]\n",
    "pars_m = [pars_ov1[0],pars_ov1[1],pars_ov1[2]- beta_delta]\n",
    "d_dbeta_ov1 = (htilde(freq,Deff_ov1,pars_p,tov1,phiov1,tune_app)\n",
    "           -htilde(freq,Deff_ov1,pars_m,tov1,phiov1,tune_app))/(2*beta_delta)"
   ]
  },
  {
   "cell_type": "code",
   "execution_count": 26,
   "metadata": {
    "collapsed": true
   },
   "outputs": [],
   "source": [
    "\"\"\"\n",
    "Derivatives of overlapping signal #2.\n",
    "\"\"\"\n",
    "\n",
    "# Derivative wrt Mc.\n",
    "\n",
    "pars_p = [pars_ov2[0] + lnMc_delta,pars_ov2[1],pars_ov2[2]]\n",
    "pars_m = [pars_ov2[0] - lnMc_delta,pars_ov2[1],pars_ov2[2]]\n",
    "d_dlnMc_ov2 = (htilde(freq,Deff_ov2,pars_p,tov2,phiov2,tune_app)\n",
    "           -htilde(freq,Deff_ov2,pars_m,tov2,phiov2,tune_app))/(2*lnMc_delta)\n",
    "\n",
    "# Derivative wrt eta.\n",
    "\n",
    "pars_p = [pars_ov2[0],pars_ov2[1] + eta_delta,pars_ov2[2]]\n",
    "pars_m = [pars_ov2[0],pars_ov2[1] - eta_delta,pars_ov2[2]]\n",
    "d_deta_ov2 = (htilde(freq,Deff_ov2,pars_p,tov2,phiov2,tune_app)\n",
    "          -htilde(freq,Deff_ov2,pars_m,tov2,phiov2,tune_app))/(2*eta_delta)\n",
    "\n",
    "# Derivative wrt beta\n",
    "\n",
    "pars_p = [pars_ov2[0],pars_ov2[1],pars_ov2[2]+ beta_delta]\n",
    "pars_m = [pars_ov2[0],pars_ov2[1],pars_ov2[2]- beta_delta]\n",
    "d_dbeta_ov2 = (htilde(freq,Deff_ov2,pars_p,tov2,phiov2,tune_app)\n",
    "           -htilde(freq,Deff_ov2,pars_m,tov2,phiov2,tune_app))/(2*beta_delta)"
   ]
  },
  {
   "cell_type": "code",
   "execution_count": 27,
   "metadata": {
    "collapsed": true
   },
   "outputs": [],
   "source": [
    "\"\"\"\n",
    "Find the Fisher matrix with your approximate waveforms, as this is the\n",
    "one which is input in the MCMC and is thus the known waveform.\n",
    "\"\"\"\n",
    "\n",
    "Ntot = 3\n",
    "\n",
    "diff_vec =[\n",
    "           # Reference signal\n",
    "           d_dlnMc_ref, d_deta_ref, d_dbeta_ref,\n",
    "           # Overlapping source #1\n",
    "            d_dlnMc_ov1, d_deta_ov1, d_dbeta_ov1,\n",
    "            # Overlapping source #2\n",
    "            d_dlnMc_ov2, d_deta_ov2, d_dbeta_ov2\n",
    "            ]\n",
    "\n",
    "fish_mix = np.eye(3*Ntot)\n",
    "for i in range(0,3*Ntot):\n",
    "    for j in range(0,3*Ntot):\n",
    "        fish_mix[i,j] = inner_prod_FD(diff_vec[i],diff_vec[j],PSD,delta_f)"
   ]
  },
  {
   "cell_type": "code",
   "execution_count": 28,
   "metadata": {},
   "outputs": [
    {
     "name": "stdout",
     "output_type": "stream",
     "text": [
      "FM width predictions: [8.32849881e-05 2.67425892e-04 1.24729693e-02 2.34493853e-04\n",
      " 1.02248744e-03 5.86169577e-02 2.75239857e-05 4.37101514e-06\n",
      " 5.27581228e-04]\n",
      "MC width predictions: [8.726170901626e-05, 0.00027833737097144, 0.01292742046057289, 0.00026969957078978, 0.00118419803819979, 0.06775738206468901, 2.757036212548e-05, 4.34861500749e-06, 0.00052385412323632]\n"
     ]
    }
   ],
   "source": [
    "# Does the Fisher matrix approximate well (within a few digits) the MCMC widths? \n",
    "# If not, then there is a problem.\n",
    "\n",
    "print('FM width predictions:',np.sqrt(np.diag(np.linalg.inv(fish_mix))))\n",
    "print('MC width predictions:',  [np.round(np.sqrt(np.var(flat_samples[:,:,i])),17) \n",
    "                                 for i in range(0,3*Ntot)])"
   ]
  },
  {
   "cell_type": "code",
   "execution_count": 29,
   "metadata": {},
   "outputs": [
    {
     "name": "stdout",
     "output_type": "stream",
     "text": [
      "condition number full FM:  9049113501.787498\n"
     ]
    }
   ],
   "source": [
    "# Inverse of the full fisher matrix\n",
    "\n",
    "print('condition number full FM: ',np.linalg.cond(fish_mix))\n",
    "FM_inv = np.linalg.inv(fish_mix)\n",
    "\n",
    "# bias vector \n",
    "\n",
    "b = [inner_prod_FD(i,deltah,PSD,delta_f) for i in diff_vec]\n",
    "\n",
    "# Inference biases\n",
    "\n",
    "biases = np.matmul(FM_inv,b)"
   ]
  },
  {
   "cell_type": "code",
   "execution_count": 30,
   "metadata": {},
   "outputs": [
    {
     "data": {
      "image/png": "[encoded data removed]",
      "text/plain": [
       "<Figure size 547.2x547.2 with 9 Axes>"
      ]
     },
     "metadata": {},
     "output_type": "display_data"
    }
   ],
   "source": [
    "truths_bias =[logMchirp_true + biases[0], eta_true + biases[1 ], beta_true + biases[2]]\n",
    "\n",
    "fig = corner.corner(org_samp, bins=30,labels=labels, \n",
    "                    truths=truths, range = range_values,\n",
    "                    truth_color='red', \n",
    "                    color='black',**CORNER_KWARGS)\n",
    "fig = corner.corner(org_samp, bins=30,labels=labels, \n",
    "                    truths=truths_bias, range = range_values,\n",
    "                    truth_color='orange', \n",
    "                    color='black',**CORNER_KWARGS, fig=fig)\n",
    "\n",
    "red_patch = mpatches.Patch(color='red', label='True values')\n",
    "orange_patch = mpatches.Patch(color='orange', label='Predicted bias')\n",
    "plt.legend(handles=[red_patch,orange_patch],bbox_to_anchor=(-1., 3.1), \n",
    "           loc='upper left', borderaxespad=0.)\n",
    "#plt.savefig('inacc_rem_bias.pdf')\n",
    "plt.show()"
   ]
  },
  {
   "cell_type": "code",
   "execution_count": 31,
   "metadata": {},
   "outputs": [
    {
     "data": {
      "text/plain": [
       "1.981071146476155"
      ]
     },
     "execution_count": 31,
     "metadata": {},
     "output_type": "execute_result"
    }
   ],
   "source": [
    "np.abs(biases[0]/np.sqrt(FM_inv[0][0]))"
   ]
  },
  {
   "cell_type": "code",
   "execution_count": 32,
   "metadata": {},
   "outputs": [
    {
     "data": {
      "text/plain": [
       "0.8441376895843201"
      ]
     },
     "execution_count": 32,
     "metadata": {},
     "output_type": "execute_result"
    }
   ],
   "source": [
    "np.abs(biases[1]/np.sqrt(FM_inv[1][1]))"
   ]
  },
  {
   "cell_type": "code",
   "execution_count": 33,
   "metadata": {},
   "outputs": [
    {
     "data": {
      "text/plain": [
       "0.7404054567104373"
      ]
     },
     "execution_count": 33,
     "metadata": {},
     "output_type": "execute_result"
    }
   ],
   "source": [
    "np.abs(biases[2]/np.sqrt(FM_inv[2][2]))"
   ]
  },
  {
   "cell_type": "markdown",
   "metadata": {
    "collapsed": true
   },
   "source": [
    "### Few explorations"
   ]
  },
  {
   "cell_type": "markdown",
   "metadata": {},
   "source": [
    "We add in a few more signals to see when all three parameters of the reference signal are significantly biases."
   ]
  },
  {
   "cell_type": "code",
   "execution_count": 34,
   "metadata": {},
   "outputs": [],
   "source": [
    "np.random.seed(35958)\n",
    "\n",
    "# Number of sources to add to analysis above.\n",
    "\n",
    "N_added = 20\n",
    "diff_vec_expl  = diff_vec\n",
    "deltah = deltah1 + deltah2\n",
    "\n",
    "SNR_list = []\n",
    "# deltah_list = [deltah]\n",
    "# diff_vec_list = [diff_vec_expl]\n",
    "\n",
    "while len(SNR_list) < N_added:\n",
    "\n",
    "    \"\"\"\n",
    "    Extra overlapping signal\n",
    "    \"\"\"\n",
    "\n",
    "    # Find a resonable distance for the signal \n",
    "\n",
    "    Deff_extra = np.random.uniform(1,10)*10**3 *Mpc\n",
    "    logDeff_extra = np.log(Deff_extra)\n",
    "\n",
    "    beta_extra = np.random.uniform(0.001,9.4)\n",
    "    eta_extra = np.random.uniform(0.001,0.25)\n",
    "    mtot_extra = 3*1e6 #in solar masses\n",
    "    Mchirp_extra = mtot_extra*(eta_extra)**(3/5)\n",
    "    Mchirp_extra =Mchirp_extra* M_sun\n",
    "    logMchirp_extra = np.log(Mchirp_extra)\n",
    "\n",
    "    pars_extra = [logMchirp_extra,eta_extra,beta_extra] # array of parameters to sample through\n",
    "\n",
    "    # Fix these two impostors, assume they are known perfectly.\n",
    "\n",
    "    t_extra =T_chirp(fmin,Mchirp_extra,eta_extra)\n",
    "    phi_extra =0.0\n",
    "    \n",
    "    SNR_extra = np.sqrt(inner_prod_FD(htilde(freq,Deff_extra,pars_extra,t_extra,phi_extra,tune_true),\n",
    "                      htilde(freq,Deff_extra,pars_extra,t_extra,phi_extra,tune_true) ,\n",
    "                      PSD,delta_f))\n",
    "    \n",
    "    if SNR_extra < 1500:\n",
    "        continue\n",
    "        \n",
    "    else:\n",
    "        \n",
    "        SNR_list.append(SNR_list)\n",
    "\n",
    "        \"\"\"\n",
    "        Derivatives of extra overlapping signal\n",
    "        \"\"\"\n",
    "\n",
    "        # Derivative wrt Mc.\n",
    "\n",
    "        pars_p = [pars_extra[0] + lnMc_delta,pars_extra[1],pars_extra[2]]\n",
    "        pars_m = [pars_extra[0] - lnMc_delta,pars_extra[1],pars_extra[2]]\n",
    "        d_dlnMc_extra = (htilde(freq,Deff_extra,pars_p,t_extra,phi_extra,tune_app)\n",
    "                   -htilde(freq,Deff_extra,pars_m,t_extra,phi_extra,tune_app))/(2*lnMc_delta)\n",
    "        diff_vec_expl.append(d_dlnMc_extra)\n",
    "\n",
    "        # Derivative wrt eta.\n",
    "\n",
    "        pars_p = [pars_extra[0],pars_extra[1] + eta_delta,pars_extra[2]]\n",
    "        pars_m = [pars_extra[0],pars_extra[1] - eta_delta,pars_extra[2]]\n",
    "        d_deta_extra = (htilde(freq,Deff_extra,pars_p,t_extra,phi_extra,tune_app)\n",
    "                  -htilde(freq,Deff_extra,pars_m,t_extra,phi_extra,tune_app))/(2*eta_delta)\n",
    "        diff_vec_expl.append(d_deta_extra)\n",
    "\n",
    "        # Derivative wrt beta\n",
    "\n",
    "        pars_p = [pars_extra[0],pars_extra[1],pars_extra[2]+ beta_delta]\n",
    "        pars_m = [pars_extra[0],pars_extra[1],pars_extra[2]- beta_delta]\n",
    "        d_dbeta_extra = (htilde(freq,Deff_extra,pars_p,t_extra,phi_extra,tune_app)\n",
    "                   -htilde(freq,Deff_extra,pars_m,t_extra,phi_extra,tune_app))/(2*beta_delta)\n",
    "        diff_vec_expl.append(d_dbeta_extra)\n",
    "\n",
    "        deltah_extra = (htilde(freq,Deff_extra,pars_extra,t_extra,phi_extra,tune_true) \n",
    "                        - htilde(freq,Deff_extra,pars_extra,t_extra,phi_extra,tune_app))\n",
    "        \n",
    "        # Save into lists\n",
    "        deltah+=deltah_extra"
   ]
  },
  {
   "cell_type": "markdown",
   "metadata": {},
   "source": [
    "Calculate the Fisher matrix taking into account the extra signals."
   ]
  },
  {
   "cell_type": "code",
   "execution_count": 35,
   "metadata": {},
   "outputs": [
    {
     "name": "stdout",
     "output_type": "stream",
     "text": [
      "2372542649982.052\n"
     ]
    }
   ],
   "source": [
    "Ntot_expl = Ntot + N_added\n",
    "\n",
    "fish_mix_expl = np.eye(3*Ntot_expl)\n",
    "for i in range(0,3*Ntot_expl):\n",
    "    for j in range(0,3*Ntot_expl):\n",
    "        fish_mix_expl[i,j] = inner_prod_FD(diff_vec_expl[i],diff_vec_expl[j],PSD,delta_f)\n",
    "print(np.linalg.cond(fish_mix_expl))"
   ]
  },
  {
   "cell_type": "markdown",
   "metadata": {},
   "source": [
    "Find the biases with the extra signals."
   ]
  },
  {
   "cell_type": "code",
   "execution_count": 36,
   "metadata": {},
   "outputs": [],
   "source": [
    "FM_inv_expl = np.linalg.inv(fish_mix_expl)\n",
    "\n",
    "# bias vector \n",
    "\n",
    "b_expl = [inner_prod_FD(i,deltah,PSD,delta_f) for i in diff_vec_expl]\n",
    "\n",
    "# Inference biases\n",
    "\n",
    "biases_expl = np.matmul(FM_inv_expl,b_expl)"
   ]
  },
  {
   "cell_type": "markdown",
   "metadata": {},
   "source": [
    "And here are the updated ratios"
   ]
  },
  {
   "cell_type": "code",
   "execution_count": 37,
   "metadata": {},
   "outputs": [
    {
     "name": "stdout",
     "output_type": "stream",
     "text": [
      "bias on lnMc: 0.33498736823661845\n",
      "bias on eta: 0.5095197247589308\n",
      "bias on beta: 0.5092109338583672\n"
     ]
    }
   ],
   "source": [
    "print('bias on lnMc:',np.abs(biases_expl[0]/np.sqrt(FM_inv_expl[0][0])))\n",
    "print('bias on eta:', np.abs(biases_expl[1]/np.sqrt(FM_inv_expl[1][1])))\n",
    "print('bias on beta:',np.abs(biases_expl[2]/np.sqrt(FM_inv_expl[2][2])))"
   ]
  },
  {
   "cell_type": "code",
   "execution_count": null,
   "metadata": {
    "collapsed": true
   },
   "outputs": [],
   "source": []
  }
 ],
 "metadata": {
  "kernelspec": {
   "display_name": "Python 3",
   "language": "python",
   "name": "python3"
  },
  "language_info": {
   "codemirror_mode": {
    "name": "ipython",
    "version": 3
   },
   "file_extension": ".py",
   "mimetype": "text/x-python",
   "name": "python",
   "nbconvert_exporter": "python",
   "pygments_lexer": "ipython3",
   "version": "3.6.2"
  }
 },
 "nbformat": 4,
 "nbformat_minor": 2
}
