{
 "cells": [
  {
   "cell_type": "markdown",
   "metadata": {},
   "source": [
    "## LISA PE with TaylorF2"
   ]
  },
  {
   "cell_type": "code",
   "execution_count": 1,
   "metadata": {
    "collapsed": true
   },
   "outputs": [],
   "source": [
    "# Import packages that you may already have pip installed in your environment.\n",
    "\n",
    "import sys\n",
    "import scipy\n",
    "import numpy as np\n",
    "import matplotlib.pyplot as plt\n",
    "import time\n",
    "from math import *\n",
    "from scipy import signal\n",
    "import os\n",
    "import warnings\n",
    "\n",
    "# Import other packages which are less common and specific to the task at hand.\n",
    "\n",
    "from functions import *\n",
    "import emcee\n",
    "import corner\n",
    "import multiprocessing as mp\n",
    "import matplotlib.patches as mpatches\n",
    "\n",
    "# Initialize random number generator.\n",
    "np.random.seed(12345)"
   ]
  },
  {
   "cell_type": "markdown",
   "metadata": {},
   "source": [
    "### Generate toy signals in the time and frequency domains"
   ]
  },
  {
   "cell_type": "markdown",
   "metadata": {},
   "source": [
    "Here we define the TaylorF2 approximant up to 3.5PN contributions.\n",
    "References for TaylorF2 models\n",
    "\n",
    "- https://arxiv.org/pdf/gr-qc/0509116.pdf [Eqs (3.4)]\n",
    "- https://arxiv.org/pdf/0907.0700.pdf [Eqs.(3.17)-(3.18)]"
   ]
  },
  {
   "cell_type": "code",
   "execution_count": 2,
   "metadata": {
    "collapsed": true
   },
   "outputs": [],
   "source": [
    "# Bunch of units\n",
    "\n",
    "pc= 3.0856776*1e16\n",
    "M_sun =1.9884099*1e30\n",
    "Mpc = 10**6 * pc"
   ]
  },
  {
   "cell_type": "code",
   "execution_count": 3,
   "metadata": {
    "collapsed": true
   },
   "outputs": [],
   "source": [
    "def htilde(f,params):\n",
    "    \n",
    "    \"\"\"\n",
    "    Here we calculate a TaylorF2 model up to 2PN which takes as input the following\n",
    "    set of parameters: (log of chirp mass, symmetric mass ratio, beta).\n",
    "    This can easily be changed in the first few lines where the parameters are loaded.\n",
    "    The main reference is https://arxiv.org/pdf/gr-qc/0509116.pdf [Eqs (3.4)].\n",
    "    \n",
    "    Note on distance: \n",
    "    \n",
    "    Notice that the effective distance contains information about the angular dependence\n",
    "    of the binary. The model can thus be used for all detectors, as long as this distance\n",
    "    parameter is chosen consistently. \n",
    "    \n",
    "    Note on spin: \n",
    "    \n",
    "    The spin parameter beta is defined in Eq.(2.3a) in [arxiv:0411129].\n",
    "    Notice that this quantity is constructed in such a way to be smaller or equal\n",
    "    than 9.4, and of course it ranges from 0 (no spins) to this upper value. \n",
    "    The coefficient enters the phase as in Eq.(2.2) in the same paper.\n",
    "    \"\"\"\n",
    "    # Units\n",
    "    \n",
    "    GM_sun = 1.3271244*1e20\n",
    "    c =2.9979246*1e8\n",
    "    M_sun =1.9884099*1e30\n",
    "    G = 6.6743*1e-11\n",
    "    pc= 3.0856776*1e16\n",
    "    pi = np.pi\n",
    "    Mpc = 10**6 * pc\n",
    "    \n",
    "    # Load the parameters\n",
    "    Mchirp_true = np.exp(params[0])\n",
    "    eta_true = params[1]\n",
    "    beta_true = params[2]\n",
    "    \n",
    "    # PN expansion parameter (velocity).\n",
    "    v = (pi*G*Mchirp_true*eta_true**(-3/5)/(c**3) * f)**(1/3)\n",
    "    \n",
    "    # Amplitude explicitly given in terms of units and frequency.\n",
    "    # Notice that lowest PN order here is fine. Biggest contributions from phase.\n",
    "    amplitude_1 = - (Mpc/Deff)*np.sqrt((5/(24*pi)))*(GM_sun/(c**2 *Mpc))\n",
    "    amplitude_2 = (pi*GM_sun/(c**3))**(-1/6) * (Mchirp_true/M_sun)**(5/6)\n",
    "    amplitude = amplitude_1*amplitude_2 * f**(-7/6)\n",
    "    \n",
    "    # Phase: add or remove PN orders here as you see fit.\n",
    "    psi_const = 2*pi*f*t0 - 2*phi0 - pi/4\n",
    "    psi1PN = (3715/756+55/9*eta_true)*v**(-3)\n",
    "    psi1_5PN = (-16*pi+4*beta_true)*v**(-2)\n",
    "    psi2PN = (15293365/508032+27145/504*eta_true+3085/72*eta_true**2)*v**(-1)\n",
    "\n",
    "    psi_fullPN = 3/(128*eta_true)*(v**(-5)+psi1PN+psi1_5PN+psi2PN)\n",
    "    psi = psi_const + psi_fullPN \n",
    "    \n",
    "    return amplitude* np.exp(1j*psi)\n",
    "\n",
    "def T_chirp(fmin,M_chirp,eta):\n",
    "    \n",
    "    \"\"\"\n",
    "    Function to give time at chirp from an initial frequency. \n",
    "    Used to pick out the total observation time. \n",
    "    \"\"\"\n",
    "    \n",
    "    M = M_chirp*eta**(-3/5)\n",
    "    v_low = (pi*G*M_chirp*eta**(-3/5)/(c**3) * fmin)**(1/3)\n",
    "    \n",
    "    theta = -11831/9240 #in PN coefficients!\n",
    "    delta = -1987/3080  #in PN coefficients!\n",
    "    gamma = np.euler_gamma\n",
    "    \n",
    "    pre_fact = ((5/(256*eta)) * G*M/(c**3))\n",
    "    first_term = (v_low**(-8) + (743/252 + (11/3) * eta ) * (v_low **(-6)) - (32*np.pi/5)*v_low**(-5)\n",
    "                +(3058673/508032 + (5429/504)*eta + (617/72)*eta**2)*v_low**(-4)\n",
    "                 +(13*eta/3 - 7729/252)*np.pi*v_low**-3)\n",
    "    \n",
    "    second_term = (6848*gamma/105 - 10052469856691/23471078400 + 128*pi**2/3 + (\n",
    "    3147553127/3048192 - 451*(pi**2)/12)*eta - (15211*eta**2)/1728 + (2555*eta**3 / 1296) +\n",
    "                   (6848/105)*np.log(4*v_low))*v_low**-2\n",
    "    \n",
    "    third_term = ((14809/378)*eta**2 - (75703/756) * eta - 15419335/127008)*pi*v_low**-1\n",
    "    return pre_fact * (first_term + second_term + third_term)"
   ]
  },
  {
   "cell_type": "markdown",
   "metadata": {},
   "source": [
    "Input some true parameters for the true signal."
   ]
  },
  {
   "cell_type": "code",
   "execution_count": 4,
   "metadata": {
    "collapsed": true
   },
   "outputs": [],
   "source": [
    "\"\"\"\n",
    "Reference signal parameters\n",
    "\"\"\"\n",
    "\n",
    "# Fix these two impostors, assume they are known perfectly.\n",
    "t0 =0.\n",
    "phi0 =0.\n",
    "\n",
    "# Find a resonable distance for the signal \n",
    "\n",
    "Deff = 10**3 *Mpc\n",
    "logDeff = np.log(Deff)\n",
    "\n",
    "beta_true = 5.0\n",
    "eta_true = 0.2\n",
    "mtot = 2*1e6 #in solar masses\n",
    "Mchirp = mtot*(eta_true)**(3/5)\n",
    "Mchirp_true =Mchirp* M_sun\n",
    "logMchirp_true = np.log(Mchirp_true)\n",
    "\n",
    "pars = [logMchirp_true,eta_true,beta_true] # array of parameters to sample through"
   ]
  },
  {
   "cell_type": "markdown",
   "metadata": {},
   "source": [
    "Here we set up the signal in the time and frequency domain.\n",
    "Notice that we take the observation time to be the chirp time as if the black-hole binaries were Scharzschild."
   ]
  },
  {
   "cell_type": "code",
   "execution_count": 5,
   "metadata": {},
   "outputs": [
    {
     "name": "stdout",
     "output_type": "stream",
     "text": [
      "df: 9.270909849533843e-06\n",
      "We observe for 107864.3 s,  1.2 days,  0.0034 yr\n",
      "fmin: 0.0004\n",
      "fmax (chirp): 0.0021991474891672074\n",
      "Length of frequency array: 195\n"
     ]
    }
   ],
   "source": [
    "\"\"\"\n",
    "Frequency domain\n",
    "\"\"\"\n",
    "fmin =  0.0004\n",
    "fmax =  c**3/(6*np.sqrt(6)*pi*G*Mchirp_true *eta_true**(-3/5))\n",
    "t_year = 365*24*60*60       \n",
    "\n",
    "\n",
    "T_obs = T_chirp(fmin,Mchirp_true,eta_true)  # Take signal in seconds.\n",
    "\n",
    "\n",
    "delta_f =1/T_obs\n",
    "freq = np.arange(fmin,fmax,delta_f)\n",
    "\n",
    "print('df:', delta_f)\n",
    "print('We observe for',\n",
    "      np.round(T_obs,1),'s, ',\n",
    "      np.round(12*30*T_obs/t_year,1),'days, ',\n",
    "      np.round(T_obs/t_year,4),'yr')\n",
    "print('fmin:', fmin)\n",
    "print('fmax (chirp):', fmax)\n",
    "print('Length of frequency array:', len(freq))"
   ]
  },
  {
   "cell_type": "markdown",
   "metadata": {},
   "source": [
    "Next, we build up noise. We use Parseval's theorem to calculate the noise. This amounts to using the following variance\n",
    "\n",
    "$$\n",
    "\\sigma^2_n= \\frac{S_n}{4 dt} N_t\n",
    "$$\n",
    "\n",
    "where:\n",
    "\n",
    "- $\\sigma^2$ is the noise variance.\n",
    "- $S_n$ is the detector's PSD.\n",
    "- $dt$ is the sampling interval.\n",
    "- $N_t$ is the length of the (padded) signal.\n",
    "\n",
    "**Notice**: in this case, we do not consider confusion noise from white-dwarf binaries. This can be changed if needed."
   ]
  },
  {
   "cell_type": "code",
   "execution_count": 6,
   "metadata": {
    "collapsed": true
   },
   "outputs": [],
   "source": [
    "def PowerSpectralDensity(f):\n",
    "    \"\"\"\n",
    "    @Ollie Burke\n",
    "    \n",
    "    Power Spectral Density for the LISA detector assuming it has been active for a year. \n",
    "    I found an analytic version in one of Niel Cornish's paper which he submitted to the arXiv in\n",
    "    2018. I evaluate the PSD at the frequency bins found in the signal FFT.\n",
    "    \n",
    "    PSD obtained from: https://arxiv.org/pdf/1803.01944.pdf.\n",
    "    Values chosen for confusion noise after 1 year of observation.\n",
    "    \n",
    "    \"\"\"\n",
    "    \n",
    "    sky_averaging_constant = 1.0\n",
    "    L = 2.5*10**9   # Length of LISA arm\n",
    "    f0 = 19.09*10**(-3)    \n",
    "\n",
    "    Poms = ((1.5e-11)*(1.5e-11))*(1 + np.power((2e-3)/f, 4))  # Optical Metrology Sensor\n",
    "    Pacc = (3e-15)*(3e-15)* (1 + (4e-4/f)*(4e-4/f))*(1 + np.power(f/(8e-3),4 ))  # Acceleration Noise\n",
    "    \n",
    "    # Parameters for confusion noise after Tobs=1yr.\n",
    "    alpha = 0.171\n",
    "    beta = 292\n",
    "    k =1020\n",
    "    gamma = 1680\n",
    "    f_k = 0.00215 \n",
    "    \n",
    "    Sc = 0 # no confusion noise (non-stationary effect)\n",
    "           # add it back here, in case.\n",
    "\n",
    "    PSD = sky_averaging_constant* ((10/(3*L*L))*(Poms + (4*Pacc)/(np.power(2*np.pi*f,4)))*(1 + 0.6*(f/f0)*(f/f0)) + Sc) # PSD\n",
    "\n",
    "    return PSD"
   ]
  },
  {
   "cell_type": "code",
   "execution_count": 7,
   "metadata": {
    "collapsed": true
   },
   "outputs": [],
   "source": [
    "PSD = PowerSpectralDensity(freq)\n",
    "\n",
    "noisevar = PSD/(4*delta_f)                   # Parseval's theorem\n",
    "noisemean = 0. "
   ]
  },
  {
   "cell_type": "markdown",
   "metadata": {},
   "source": [
    "Finally, set up the data in the frequency domain. Add noise, extra signals etc. as you please, here. I warn against it."
   ]
  },
  {
   "cell_type": "code",
   "execution_count": 8,
   "metadata": {
    "collapsed": true
   },
   "outputs": [],
   "source": [
    "# signals\n",
    "h_true_vec_f = htilde(freq,pars)\n",
    "data_f_vec = h_true_vec_f"
   ]
  },
  {
   "cell_type": "markdown",
   "metadata": {},
   "source": [
    "And finally we calculate the SNRs."
   ]
  },
  {
   "cell_type": "code",
   "execution_count": 9,
   "metadata": {
    "collapsed": true
   },
   "outputs": [],
   "source": [
    "def inner_prod(sig1_f,sig2_f,PSD,delta_f):\n",
    "    \"\"\"\n",
    "    Only makes sense for continuous fourier transforms. (No dt's floating around). \n",
    "    This takes as input dimensionful quantities.\n",
    "    \"\"\"\n",
    "    return (4*delta_f) * np.real(np.sum(np.conjugate(sig1_f)*sig2_f/PSD))"
   ]
  },
  {
   "cell_type": "code",
   "execution_count": 10,
   "metadata": {},
   "outputs": [
    {
     "name": "stdout",
     "output_type": "stream",
     "text": [
      "Optimal SNR for the resolved source is 16891.35896376206\n"
     ]
    }
   ],
   "source": [
    "# SNR of the resolved source\n",
    "\n",
    "SNR2 = inner_prod(data_f_vec,h_true_vec_f,PSD,delta_f) \n",
    "h_SNR2 = inner_prod(h_true_vec_f,h_true_vec_f,PSD,delta_f) \n",
    "\n",
    "rho = np.sqrt(SNR2)\n",
    "print('Optimal SNR for the resolved source is',rho)"
   ]
  },
  {
   "cell_type": "markdown",
   "metadata": {
    "collapsed": true
   },
   "source": [
    "### Setting up the MCMC"
   ]
  },
  {
   "cell_type": "markdown",
   "metadata": {
    "collapsed": true
   },
   "source": [
    "Here we setup the MCMC check. First of all we write down the priors."
   ]
  },
  {
   "cell_type": "code",
   "execution_count": 11,
   "metadata": {
    "collapsed": true
   },
   "outputs": [],
   "source": [
    "# Priors on frequency\n",
    "eta_low_range = 0.01  \n",
    "eta_high_range = 0.25\n",
    "\n",
    "# Priors on the phase\n",
    "logMchirp_low_range = np.log(10*M_sun)\n",
    "logMchirp_high_range = np.log(20000000*M_sun)\n",
    "\n",
    "# Priors on spin parameters: check Berti, Buonanno, Will.\n",
    "\n",
    "\"\"\"\n",
    "Recall this is the full range of beta!\n",
    "\"\"\"\n",
    "\n",
    "beta_low = 0.00001\n",
    "beta_high = 9.4 "
   ]
  },
  {
   "cell_type": "code",
   "execution_count": 12,
   "metadata": {
    "collapsed": true
   },
   "outputs": [],
   "source": [
    "\"\"\"\n",
    "Coded up by Ollie Burke.\n",
    "\"\"\"\n",
    "\n",
    "def lprior_eta(eta):\n",
    "\n",
    "\n",
    "    if eta < eta_low_range or eta > eta_high_range: # are you out of your range?\n",
    "        print('I am out of my range.')\n",
    "        return -1e10 \n",
    "    else:\n",
    "        return np.log(1/(eta_high_range - eta_low_range))\n",
    "\n",
    "def lprior_logMchirp(logMchirp):\n",
    "    \n",
    "    if logMchirp < logMchirp_low_range or logMchirp > logMchirp_high_range: # are you out of your range?\n",
    "        print('I am out of my range.')\n",
    "        return -1e10\n",
    "    else:\n",
    "        return np.log(1/(logMchirp_high_range - logMchirp_low_range))\n",
    "\n",
    "def lprior_beta(beta):\n",
    "\n",
    "    \n",
    "    if beta < beta_low or beta > beta_high: # are you out of your range?\n",
    "        print('I am out of my range.')\n",
    "        return -1e10\n",
    "    else:\n",
    "        return np.log(1/(beta_high - beta_low))"
   ]
  },
  {
   "cell_type": "markdown",
   "metadata": {},
   "source": [
    "Next we calculate the (log-)likelihood.\n",
    "$$\n",
    "p(d|\\theta)\\sim \\exp\\left\\{\\frac{1}{2}\\left(d-h|d-h\\right)\\right\\}\n",
    "$$\n",
    "and the log posterior."
   ]
  },
  {
   "cell_type": "code",
   "execution_count": 13,
   "metadata": {
    "collapsed": true
   },
   "outputs": [],
   "source": [
    "def llike(params, data_f):\n",
    "    \"\"\"\n",
    "    Assumption: Known PSD otherwise need additional term\n",
    "    \"\"\"\n",
    "    signal_f = htilde(freq,params)\n",
    "    return(-0.5 * np.sum((np.abs(data_f - signal_f)**2) / noisevar))\n",
    "\n",
    "def lpost(params):\n",
    "    '''\n",
    "    Compute log posterior.\n",
    "    Add parameters here as you see fit.\n",
    "    Add if clauses for each prior\n",
    "    '''\n",
    "    data_f = data_f_vec\n",
    "    logMchirp = params[0]\n",
    "    eta = params[1]\n",
    "    beta = params[2]\n",
    "    \n",
    "    if beta < beta_low or beta > beta_high or eta < eta_low_range or eta > eta_high_range or logMchirp < logMchirp_low_range or logMchirp > logMchirp_high_range:\n",
    "        res = -np.inf\n",
    "    else:\n",
    "        res = llike(params, data_f) + lprior_logMchirp(params[0]) + lprior_eta(params[1])+lprior_beta(params[2])\n",
    "\n",
    "    return res"
   ]
  },
  {
   "cell_type": "markdown",
   "metadata": {},
   "source": [
    "Here we define and run the sampler."
   ]
  },
  {
   "cell_type": "code",
   "execution_count": 14,
   "metadata": {
    "scrolled": true
   },
   "outputs": [
    {
     "name": "stderr",
     "output_type": "stream",
     "text": [
      "100%|██████████| 10000/10000 [00:16<00:00, 612.91it/s]\n"
     ]
    }
   ],
   "source": [
    "iterations = 10000\n",
    "\n",
    "pos = [logMchirp_true,eta_true,beta_true]\n",
    "\n",
    "\n",
    "\"\"\"\n",
    "Notice that here we start around the true values. In this sense we are\n",
    "not perfoming a search, but merely checking Fisher estimates. Change the prefactor \n",
    "of the random number if you want to explore a bit more of the parameter space.\n",
    "\"\"\"\n",
    "\n",
    "start= pos*(1+1e-9* np.random.randn(6, 3))\n",
    "\n",
    "# output\n",
    "nwalkers, ndim = start.shape\n",
    "sampler = emcee.EnsembleSampler(nwalkers, ndim, lpost)\n",
    "sampler.run_mcmc(start, iterations, progress=True)\n",
    "flat_samples = sampler.get_chain(discard=1500, thin=1, flat=False)"
   ]
  },
  {
   "cell_type": "code",
   "execution_count": 15,
   "metadata": {},
   "outputs": [
    {
     "name": "stdout",
     "output_type": "stream",
     "text": [
      "number of samples =  (51000, 3)\n",
      "median =  [83.30788303  0.1999975   5.00002532]\n"
     ]
    }
   ],
   "source": [
    "\"\"\"\n",
    "Gather all the relevant samples here. If you increase the dimensionality of \n",
    "the toy model or problem in general, add more dimensions here as well.\n",
    "\"\"\"\n",
    "\n",
    "# Stack the samples for the parameters sampled through. \n",
    "org_samp = np.vstack( (flat_samples[:,:,0].flatten(), #mass samples.\n",
    "                       flat_samples[:,:,1].flatten(), #mass-ratios\n",
    "                       flat_samples[:,:,2].flatten()  #spin samples.\n",
    "                      ) ).T\n",
    "print(\"number of samples = \", np.shape(org_samp))\n",
    "print(\"median = \", np.median(org_samp,axis=0))"
   ]
  },
  {
   "cell_type": "code",
   "execution_count": 16,
   "metadata": {
    "collapsed": true
   },
   "outputs": [],
   "source": [
    "# Nice plotting options for corner plots.\n",
    "\n",
    "CORNER_KWARGS = dict(\n",
    "    smooth=0.99, # smooths out contours. \n",
    "    plot_datapoints=False, # choose if you want datapoints\n",
    "    label_kwargs=dict(fontsize=12.5), # font size for labels\n",
    "    show_titles=True, #choose if you want titles on top of densities.\n",
    "    title_kwargs=dict(fontsize=12.5), # font size for title\n",
    "    plot_density=False,\n",
    "    quantiles=[0.16, 0.84],  # add quantiles to plot densities. \n",
    "    levels=(1 - np.exp(-0.5), 1 - np.exp(-2), 1 - np.exp(-9 / 2.)),\n",
    "    fill_contours=True, #decide if you want to fill the contours\n",
    "    max_n_ticks=1, # set a limit to ticks in the x-y axes.\n",
    "    title_fmt=\".1e\", # format for high powers (here 10^2 ~ e+02 etc.)\n",
    "    reverse=False  # if you are a madman, reverse the whole contour.\n",
    ")"
   ]
  },
  {
   "cell_type": "code",
   "execution_count": 17,
   "metadata": {},
   "outputs": [
    {
     "data": {
      "image/png": "[encoded data removed]",
      "text/plain": [
       "<Figure size 547.2x547.2 with 9 Axes>"
      ]
     },
     "metadata": {},
     "output_type": "display_data"
    }
   ],
   "source": [
    "labels = [r'$\\ln\\mathcal{M}_c$', r'$\\eta$', r'$\\beta$']\n",
    "truths=[logMchirp_true,eta_true,beta_true]\n",
    "\n",
    "fig = corner.corner(org_samp, bins=20,labels=labels, \n",
    "                    truths=truths,\n",
    "                    truth_color='red', \n",
    "                    color='black',**CORNER_KWARGS)\n",
    "\n",
    "red_patch = mpatches.Patch(color='red', label='True values')\n",
    "plt.legend(handles=[red_patch],bbox_to_anchor=(-1., 3.1), \n",
    "           loc='upper left', borderaxespad=0.)\n",
    "plt.show()"
   ]
  }
 ],
 "metadata": {
  "kernelspec": {
   "display_name": "Python 3",
   "language": "python",
   "name": "python3"
  },
  "language_info": {
   "codemirror_mode": {
    "name": "ipython",
    "version": 3
   },
   "file_extension": ".py",
   "mimetype": "text/x-python",
   "name": "python",
   "nbconvert_exporter": "python",
   "pygments_lexer": "ipython3",
   "version": "3.6.2"
  }
 },
 "nbformat": 4,
 "nbformat_minor": 2
}
